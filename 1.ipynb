{
 "cells": [
  {
   "cell_type": "code",
   "execution_count": 1,
   "metadata": {},
   "outputs": [],
   "source": [
    "#! C:\\Users\\DELL\\Downloads\\heart disease prediction\\myenv\\Scripts\\python.exe\n",
    "import numpy as np\n",
    "import pandas as pd\n",
    "import matplotlib.pyplot as plt\n",
    "from collections import Counter\n",
    "import seaborn as sns\n",
    "from sklearn.preprocessing import OneHotEncoder, StandardScaler, MinMaxScaler, RobustScaler, PolynomialFeatures, LabelEncoder\n",
    "from sklearn.model_selection import train_test_split, KFold, cross_val_score, GridSearchCV, RandomizedSearchCV, RepeatedKFold, RepeatedStratifiedKFold\n",
    "from sklearn.compose import make_column_selector, ColumnTransformer\n",
    "from sklearn.linear_model import LogisticRegression\n",
    "from sklearn.tree import DecisionTreeClassifier\n",
    "from sklearn.ensemble import RandomForestClassifier\n",
    "from sklearn.svm import SVC\n",
    "from sklearn.neighbors import KNeighborsClassifier\n",
    "from sklearn.naive_bayes import GaussianNB, MultinomialNB\n",
    "from sklearn.feature_selection import SelectKBest, chi2, f_classif, mutual_info_classif\n",
    "from sklearn.metrics import roc_auc_score, roc_curve, confusion_matrix, PrecisionRecallDisplay\n",
    "from sklearn.impute import KNNImputer\n",
    "from sklearn.pipeline import Pipeline\n",
    "from sklearn.base import BaseEstimator\n",
    "from sklearn.utils.class_weight import compute_class_weight\n",
    "from matplotlib.animation import FuncAnimation\n",
    "from sklearn.metrics import accuracy_score,  precision_score, recall_score, f1_score, roc_auc_score, confusion_matrix\n",
    "\n",
    "\n",
    "import warnings\n",
    "warnings.filterwarnings(\"ignore\")"
   ]
  },
  {
   "cell_type": "markdown",
   "metadata": {},
   "source": [
    "Data Collection and Preprocessing"
   ]
  },
  {
   "cell_type": "code",
   "execution_count": 2,
   "metadata": {},
   "outputs": [],
   "source": [
    "heart=pd.read_csv(\"heart.csv\")"
   ]
  },
  {
   "cell_type": "code",
   "execution_count": 3,
   "metadata": {},
   "outputs": [
    {
     "data": {
      "text/html": [
       "<div>\n",
       "<style scoped>\n",
       "    .dataframe tbody tr th:only-of-type {\n",
       "        vertical-align: middle;\n",
       "    }\n",
       "\n",
       "    .dataframe tbody tr th {\n",
       "        vertical-align: top;\n",
       "    }\n",
       "\n",
       "    .dataframe thead th {\n",
       "        text-align: right;\n",
       "    }\n",
       "</style>\n",
       "<table border=\"1\" class=\"dataframe\">\n",
       "  <thead>\n",
       "    <tr style=\"text-align: right;\">\n",
       "      <th></th>\n",
       "      <th>id</th>\n",
       "      <th>age</th>\n",
       "      <th>gender</th>\n",
       "      <th>height</th>\n",
       "      <th>weight</th>\n",
       "      <th>ap_hi</th>\n",
       "      <th>ap_lo</th>\n",
       "      <th>cholesterol</th>\n",
       "      <th>gluc</th>\n",
       "      <th>smoke</th>\n",
       "      <th>alco</th>\n",
       "      <th>active</th>\n",
       "      <th>cardio</th>\n",
       "    </tr>\n",
       "  </thead>\n",
       "  <tbody>\n",
       "    <tr>\n",
       "      <th>0</th>\n",
       "      <td>0</td>\n",
       "      <td>18393</td>\n",
       "      <td>2</td>\n",
       "      <td>168</td>\n",
       "      <td>62.0</td>\n",
       "      <td>110</td>\n",
       "      <td>80</td>\n",
       "      <td>1</td>\n",
       "      <td>1</td>\n",
       "      <td>0</td>\n",
       "      <td>0</td>\n",
       "      <td>1</td>\n",
       "      <td>0</td>\n",
       "    </tr>\n",
       "    <tr>\n",
       "      <th>1</th>\n",
       "      <td>1</td>\n",
       "      <td>20228</td>\n",
       "      <td>1</td>\n",
       "      <td>156</td>\n",
       "      <td>85.0</td>\n",
       "      <td>140</td>\n",
       "      <td>90</td>\n",
       "      <td>3</td>\n",
       "      <td>1</td>\n",
       "      <td>0</td>\n",
       "      <td>0</td>\n",
       "      <td>1</td>\n",
       "      <td>1</td>\n",
       "    </tr>\n",
       "    <tr>\n",
       "      <th>2</th>\n",
       "      <td>2</td>\n",
       "      <td>18857</td>\n",
       "      <td>1</td>\n",
       "      <td>165</td>\n",
       "      <td>64.0</td>\n",
       "      <td>130</td>\n",
       "      <td>70</td>\n",
       "      <td>3</td>\n",
       "      <td>1</td>\n",
       "      <td>0</td>\n",
       "      <td>0</td>\n",
       "      <td>0</td>\n",
       "      <td>1</td>\n",
       "    </tr>\n",
       "    <tr>\n",
       "      <th>3</th>\n",
       "      <td>3</td>\n",
       "      <td>17623</td>\n",
       "      <td>2</td>\n",
       "      <td>169</td>\n",
       "      <td>82.0</td>\n",
       "      <td>150</td>\n",
       "      <td>100</td>\n",
       "      <td>1</td>\n",
       "      <td>1</td>\n",
       "      <td>0</td>\n",
       "      <td>0</td>\n",
       "      <td>1</td>\n",
       "      <td>1</td>\n",
       "    </tr>\n",
       "    <tr>\n",
       "      <th>4</th>\n",
       "      <td>4</td>\n",
       "      <td>17474</td>\n",
       "      <td>1</td>\n",
       "      <td>156</td>\n",
       "      <td>56.0</td>\n",
       "      <td>100</td>\n",
       "      <td>60</td>\n",
       "      <td>1</td>\n",
       "      <td>1</td>\n",
       "      <td>0</td>\n",
       "      <td>0</td>\n",
       "      <td>0</td>\n",
       "      <td>0</td>\n",
       "    </tr>\n",
       "    <tr>\n",
       "      <th>5</th>\n",
       "      <td>8</td>\n",
       "      <td>21914</td>\n",
       "      <td>1</td>\n",
       "      <td>151</td>\n",
       "      <td>67.0</td>\n",
       "      <td>120</td>\n",
       "      <td>80</td>\n",
       "      <td>2</td>\n",
       "      <td>2</td>\n",
       "      <td>0</td>\n",
       "      <td>0</td>\n",
       "      <td>0</td>\n",
       "      <td>0</td>\n",
       "    </tr>\n",
       "    <tr>\n",
       "      <th>6</th>\n",
       "      <td>9</td>\n",
       "      <td>22113</td>\n",
       "      <td>1</td>\n",
       "      <td>157</td>\n",
       "      <td>93.0</td>\n",
       "      <td>130</td>\n",
       "      <td>80</td>\n",
       "      <td>3</td>\n",
       "      <td>1</td>\n",
       "      <td>0</td>\n",
       "      <td>0</td>\n",
       "      <td>1</td>\n",
       "      <td>0</td>\n",
       "    </tr>\n",
       "    <tr>\n",
       "      <th>7</th>\n",
       "      <td>12</td>\n",
       "      <td>22584</td>\n",
       "      <td>2</td>\n",
       "      <td>178</td>\n",
       "      <td>95.0</td>\n",
       "      <td>130</td>\n",
       "      <td>90</td>\n",
       "      <td>3</td>\n",
       "      <td>3</td>\n",
       "      <td>0</td>\n",
       "      <td>0</td>\n",
       "      <td>1</td>\n",
       "      <td>1</td>\n",
       "    </tr>\n",
       "    <tr>\n",
       "      <th>8</th>\n",
       "      <td>13</td>\n",
       "      <td>17668</td>\n",
       "      <td>1</td>\n",
       "      <td>158</td>\n",
       "      <td>71.0</td>\n",
       "      <td>110</td>\n",
       "      <td>70</td>\n",
       "      <td>1</td>\n",
       "      <td>1</td>\n",
       "      <td>0</td>\n",
       "      <td>0</td>\n",
       "      <td>1</td>\n",
       "      <td>0</td>\n",
       "    </tr>\n",
       "    <tr>\n",
       "      <th>9</th>\n",
       "      <td>14</td>\n",
       "      <td>19834</td>\n",
       "      <td>1</td>\n",
       "      <td>164</td>\n",
       "      <td>68.0</td>\n",
       "      <td>110</td>\n",
       "      <td>60</td>\n",
       "      <td>1</td>\n",
       "      <td>1</td>\n",
       "      <td>0</td>\n",
       "      <td>0</td>\n",
       "      <td>0</td>\n",
       "      <td>0</td>\n",
       "    </tr>\n",
       "  </tbody>\n",
       "</table>\n",
       "</div>"
      ],
      "text/plain": [
       "   id    age  gender  height  weight  ap_hi  ap_lo  cholesterol  gluc  smoke  \\\n",
       "0   0  18393       2     168    62.0    110     80            1     1      0   \n",
       "1   1  20228       1     156    85.0    140     90            3     1      0   \n",
       "2   2  18857       1     165    64.0    130     70            3     1      0   \n",
       "3   3  17623       2     169    82.0    150    100            1     1      0   \n",
       "4   4  17474       1     156    56.0    100     60            1     1      0   \n",
       "5   8  21914       1     151    67.0    120     80            2     2      0   \n",
       "6   9  22113       1     157    93.0    130     80            3     1      0   \n",
       "7  12  22584       2     178    95.0    130     90            3     3      0   \n",
       "8  13  17668       1     158    71.0    110     70            1     1      0   \n",
       "9  14  19834       1     164    68.0    110     60            1     1      0   \n",
       "\n",
       "   alco  active  cardio  \n",
       "0     0       1       0  \n",
       "1     0       1       1  \n",
       "2     0       0       1  \n",
       "3     0       1       1  \n",
       "4     0       0       0  \n",
       "5     0       0       0  \n",
       "6     0       1       0  \n",
       "7     0       1       1  \n",
       "8     0       1       0  \n",
       "9     0       0       0  "
      ]
     },
     "execution_count": 3,
     "metadata": {},
     "output_type": "execute_result"
    }
   ],
   "source": [
    "heart.head(10)"
   ]
  },
  {
   "cell_type": "code",
   "execution_count": 3,
   "metadata": {},
   "outputs": [],
   "source": [
    "#lets drop id as it is not relavent\n",
    "heart.drop(\"id\",axis=1,inplace=True)"
   ]
  },
  {
   "cell_type": "code",
   "execution_count": 5,
   "metadata": {},
   "outputs": [
    {
     "data": {
      "text/plain": [
       "(70000, 12)"
      ]
     },
     "execution_count": 5,
     "metadata": {},
     "output_type": "execute_result"
    }
   ],
   "source": [
    "heart.shape"
   ]
  },
  {
   "cell_type": "code",
   "execution_count": 4,
   "metadata": {},
   "outputs": [
    {
     "data": {
      "text/html": [
       "<div>\n",
       "<style scoped>\n",
       "    .dataframe tbody tr th:only-of-type {\n",
       "        vertical-align: middle;\n",
       "    }\n",
       "\n",
       "    .dataframe tbody tr th {\n",
       "        vertical-align: top;\n",
       "    }\n",
       "\n",
       "    .dataframe thead th {\n",
       "        text-align: right;\n",
       "    }\n",
       "</style>\n",
       "<table border=\"1\" class=\"dataframe\">\n",
       "  <thead>\n",
       "    <tr style=\"text-align: right;\">\n",
       "      <th></th>\n",
       "      <th>age</th>\n",
       "      <th>gender</th>\n",
       "      <th>height</th>\n",
       "      <th>weight</th>\n",
       "      <th>ap_hi</th>\n",
       "      <th>ap_lo</th>\n",
       "      <th>cholesterol</th>\n",
       "      <th>gluc</th>\n",
       "      <th>smoke</th>\n",
       "      <th>alco</th>\n",
       "      <th>active</th>\n",
       "      <th>cardio</th>\n",
       "    </tr>\n",
       "  </thead>\n",
       "  <tbody>\n",
       "    <tr>\n",
       "      <th>0</th>\n",
       "      <td>50</td>\n",
       "      <td>2</td>\n",
       "      <td>168</td>\n",
       "      <td>62.0</td>\n",
       "      <td>110</td>\n",
       "      <td>80</td>\n",
       "      <td>1</td>\n",
       "      <td>1</td>\n",
       "      <td>0</td>\n",
       "      <td>0</td>\n",
       "      <td>1</td>\n",
       "      <td>0</td>\n",
       "    </tr>\n",
       "    <tr>\n",
       "      <th>1</th>\n",
       "      <td>55</td>\n",
       "      <td>1</td>\n",
       "      <td>156</td>\n",
       "      <td>85.0</td>\n",
       "      <td>140</td>\n",
       "      <td>90</td>\n",
       "      <td>3</td>\n",
       "      <td>1</td>\n",
       "      <td>0</td>\n",
       "      <td>0</td>\n",
       "      <td>1</td>\n",
       "      <td>1</td>\n",
       "    </tr>\n",
       "    <tr>\n",
       "      <th>2</th>\n",
       "      <td>52</td>\n",
       "      <td>1</td>\n",
       "      <td>165</td>\n",
       "      <td>64.0</td>\n",
       "      <td>130</td>\n",
       "      <td>70</td>\n",
       "      <td>3</td>\n",
       "      <td>1</td>\n",
       "      <td>0</td>\n",
       "      <td>0</td>\n",
       "      <td>0</td>\n",
       "      <td>1</td>\n",
       "    </tr>\n",
       "    <tr>\n",
       "      <th>3</th>\n",
       "      <td>48</td>\n",
       "      <td>2</td>\n",
       "      <td>169</td>\n",
       "      <td>82.0</td>\n",
       "      <td>150</td>\n",
       "      <td>100</td>\n",
       "      <td>1</td>\n",
       "      <td>1</td>\n",
       "      <td>0</td>\n",
       "      <td>0</td>\n",
       "      <td>1</td>\n",
       "      <td>1</td>\n",
       "    </tr>\n",
       "    <tr>\n",
       "      <th>4</th>\n",
       "      <td>48</td>\n",
       "      <td>1</td>\n",
       "      <td>156</td>\n",
       "      <td>56.0</td>\n",
       "      <td>100</td>\n",
       "      <td>60</td>\n",
       "      <td>1</td>\n",
       "      <td>1</td>\n",
       "      <td>0</td>\n",
       "      <td>0</td>\n",
       "      <td>0</td>\n",
       "      <td>0</td>\n",
       "    </tr>\n",
       "  </tbody>\n",
       "</table>\n",
       "</div>"
      ],
      "text/plain": [
       "   age  gender  height  weight  ap_hi  ap_lo  cholesterol  gluc  smoke  alco  \\\n",
       "0   50       2     168    62.0    110     80            1     1      0     0   \n",
       "1   55       1     156    85.0    140     90            3     1      0     0   \n",
       "2   52       1     165    64.0    130     70            3     1      0     0   \n",
       "3   48       2     169    82.0    150    100            1     1      0     0   \n",
       "4   48       1     156    56.0    100     60            1     1      0     0   \n",
       "\n",
       "   active  cardio  \n",
       "0       1       0  \n",
       "1       1       1  \n",
       "2       0       1  \n",
       "3       1       1  \n",
       "4       0       0  "
      ]
     },
     "execution_count": 4,
     "metadata": {},
     "output_type": "execute_result"
    }
   ],
   "source": [
    "# Convert age from days to years\n",
    "heart['age'] = (heart['age'] / 365).round().astype(int)\n",
    "heart.head(5)"
   ]
  },
  {
   "cell_type": "code",
   "execution_count": 5,
   "metadata": {},
   "outputs": [
    {
     "data": {
      "text/plain": [
       "(66184, 12)"
      ]
     },
     "execution_count": 5,
     "metadata": {},
     "output_type": "execute_result"
    }
   ],
   "source": [
    "heart.duplicated().sum()\n",
    "heart.drop_duplicates(inplace=True)\n",
    "heart.shape"
   ]
  },
  {
   "cell_type": "code",
   "execution_count": 6,
   "metadata": {},
   "outputs": [
    {
     "data": {
      "text/plain": [
       "age             28\n",
       "gender           2\n",
       "height         109\n",
       "weight         287\n",
       "ap_hi          153\n",
       "ap_lo          157\n",
       "cholesterol      3\n",
       "gluc             3\n",
       "smoke            2\n",
       "alco             2\n",
       "active           2\n",
       "cardio           2\n",
       "dtype: int64"
      ]
     },
     "execution_count": 6,
     "metadata": {},
     "output_type": "execute_result"
    }
   ],
   "source": [
    "\n",
    "heart.nunique()"
   ]
  },
  {
   "cell_type": "code",
   "execution_count": 7,
   "metadata": {},
   "outputs": [],
   "source": [
    "heart[\"bmi\"] = heart[\"weight\"] / (heart[\"height\"]/100)**2\n"
   ]
  },
  {
   "cell_type": "markdown",
   "metadata": {},
   "source": [
    "trying to figure out how separate distributions of CVD patients and non-CVD patients look like in terms of height feature:"
   ]
  },
  {
   "cell_type": "code",
   "execution_count": 8,
   "metadata": {},
   "outputs": [],
   "source": [
    "heart.drop([\"weight\",\"height\"],axis=1,inplace=True)"
   ]
  },
  {
   "cell_type": "code",
   "execution_count": 9,
   "metadata": {},
   "outputs": [
    {
     "data": {
      "text/html": [
       "<div>\n",
       "<style scoped>\n",
       "    .dataframe tbody tr th:only-of-type {\n",
       "        vertical-align: middle;\n",
       "    }\n",
       "\n",
       "    .dataframe tbody tr th {\n",
       "        vertical-align: top;\n",
       "    }\n",
       "\n",
       "    .dataframe thead th {\n",
       "        text-align: right;\n",
       "    }\n",
       "</style>\n",
       "<table border=\"1\" class=\"dataframe\">\n",
       "  <thead>\n",
       "    <tr style=\"text-align: right;\">\n",
       "      <th></th>\n",
       "      <th>age</th>\n",
       "      <th>gender</th>\n",
       "      <th>ap_hi</th>\n",
       "      <th>ap_lo</th>\n",
       "      <th>cholesterol</th>\n",
       "      <th>gluc</th>\n",
       "      <th>smoke</th>\n",
       "      <th>alco</th>\n",
       "      <th>active</th>\n",
       "      <th>cardio</th>\n",
       "      <th>bmi</th>\n",
       "    </tr>\n",
       "  </thead>\n",
       "  <tbody>\n",
       "    <tr>\n",
       "      <th>0</th>\n",
       "      <td>50</td>\n",
       "      <td>2</td>\n",
       "      <td>110</td>\n",
       "      <td>80</td>\n",
       "      <td>1</td>\n",
       "      <td>1</td>\n",
       "      <td>0</td>\n",
       "      <td>0</td>\n",
       "      <td>1</td>\n",
       "      <td>0</td>\n",
       "      <td>21.967120</td>\n",
       "    </tr>\n",
       "    <tr>\n",
       "      <th>1</th>\n",
       "      <td>55</td>\n",
       "      <td>1</td>\n",
       "      <td>140</td>\n",
       "      <td>90</td>\n",
       "      <td>3</td>\n",
       "      <td>1</td>\n",
       "      <td>0</td>\n",
       "      <td>0</td>\n",
       "      <td>1</td>\n",
       "      <td>1</td>\n",
       "      <td>34.927679</td>\n",
       "    </tr>\n",
       "    <tr>\n",
       "      <th>2</th>\n",
       "      <td>52</td>\n",
       "      <td>1</td>\n",
       "      <td>130</td>\n",
       "      <td>70</td>\n",
       "      <td>3</td>\n",
       "      <td>1</td>\n",
       "      <td>0</td>\n",
       "      <td>0</td>\n",
       "      <td>0</td>\n",
       "      <td>1</td>\n",
       "      <td>23.507805</td>\n",
       "    </tr>\n",
       "    <tr>\n",
       "      <th>3</th>\n",
       "      <td>48</td>\n",
       "      <td>2</td>\n",
       "      <td>150</td>\n",
       "      <td>100</td>\n",
       "      <td>1</td>\n",
       "      <td>1</td>\n",
       "      <td>0</td>\n",
       "      <td>0</td>\n",
       "      <td>1</td>\n",
       "      <td>1</td>\n",
       "      <td>28.710479</td>\n",
       "    </tr>\n",
       "    <tr>\n",
       "      <th>4</th>\n",
       "      <td>48</td>\n",
       "      <td>1</td>\n",
       "      <td>100</td>\n",
       "      <td>60</td>\n",
       "      <td>1</td>\n",
       "      <td>1</td>\n",
       "      <td>0</td>\n",
       "      <td>0</td>\n",
       "      <td>0</td>\n",
       "      <td>0</td>\n",
       "      <td>23.011177</td>\n",
       "    </tr>\n",
       "  </tbody>\n",
       "</table>\n",
       "</div>"
      ],
      "text/plain": [
       "   age  gender  ap_hi  ap_lo  cholesterol  gluc  smoke  alco  active  cardio  \\\n",
       "0   50       2    110     80            1     1      0     0       1       0   \n",
       "1   55       1    140     90            3     1      0     0       1       1   \n",
       "2   52       1    130     70            3     1      0     0       0       1   \n",
       "3   48       2    150    100            1     1      0     0       1       1   \n",
       "4   48       1    100     60            1     1      0     0       0       0   \n",
       "\n",
       "         bmi  \n",
       "0  21.967120  \n",
       "1  34.927679  \n",
       "2  23.507805  \n",
       "3  28.710479  \n",
       "4  23.011177  "
      ]
     },
     "execution_count": 9,
     "metadata": {},
     "output_type": "execute_result"
    }
   ],
   "source": [
    "heart.head(5)"
   ]
  },
  {
   "cell_type": "markdown",
   "metadata": {},
   "source": [
    "check for outliers"
   ]
  },
  {
   "cell_type": "code",
   "execution_count": 10,
   "metadata": {},
   "outputs": [
    {
     "data": {
      "text/plain": [
       "<Figure size 9360x5760 with 0 Axes>"
      ]
     },
     "metadata": {},
     "output_type": "display_data"
    },
    {
     "data": {
      "image/png": "[encoded data removed]",
      "text/plain": [
       "<Figure size 640x480 with 1 Axes>"
      ]
     },
     "metadata": {},
     "output_type": "display_data"
    }
   ],
   "source": [
    "plt.figure(num=None, figsize=(10.4, 6.4), dpi=900, facecolor='w', edgecolor='k')\n",
    "heart.plot(kind='box')\n",
    "plt.axis(xmin=0,xmax=14,ymin=1,ymax=200)\n",
    "plt.show();"
   ]
  },
  {
   "cell_type": "markdown",
   "metadata": {},
   "source": [
    "In some cases diastolic pressure is higher than systolic, which is incorrect. How many records are inaccurate in terms of blood pressure?"
   ]
  },
  {
   "cell_type": "code",
   "execution_count": 11,
   "metadata": {},
   "outputs": [
    {
     "name": "stdout",
     "output_type": "stream",
     "text": [
      "Diastolic pressure is higher than systolic one in 1233 cases\n"
     ]
    }
   ],
   "source": [
    "print(\"Diastolic pressure is higher than systolic one in {0} cases\".format(heart[heart['ap_lo']> heart['ap_hi']].shape[0]))"
   ]
  },
  {
   "cell_type": "markdown",
   "metadata": {},
   "source": [
    "Let's get rid of the outliers, moreover blood pressure could not be negative value!"
   ]
  },
  {
   "cell_type": "code",
   "execution_count": 12,
   "metadata": {},
   "outputs": [
    {
     "name": "stdout",
     "output_type": "stream",
     "text": [
      "Maximum systolic pressure: 16020\n",
      "Minimum systolic pressure: -150\n",
      "Number of systolic pressure variables: 153\n"
     ]
    }
   ],
   "source": [
    "print('Maximum systolic pressure:',heart[\"ap_hi\"].max())\n",
    "print('Minimum systolic pressure:', heart[\"ap_hi\"].min())\n",
    "print('Number of systolic pressure variables:', heart[\"ap_hi\"].nunique())"
   ]
  },
  {
   "cell_type": "code",
   "execution_count": 13,
   "metadata": {},
   "outputs": [
    {
     "name": "stdout",
     "output_type": "stream",
     "text": [
      "Maximum diastolic pressure: 11000\n",
      "Minimum diastolic pressure: -70\n",
      "Number of diastolic pressure variables: 157\n"
     ]
    }
   ],
   "source": [
    "print('Maximum diastolic pressure:',heart[\"ap_lo\"].max())\n",
    "print('Minimum diastolic pressure:', heart[\"ap_lo\"].min())\n",
    "print('Number of diastolic pressure variables:', heart[\"ap_lo\"].nunique())"
   ]
  },
  {
   "cell_type": "code",
   "execution_count": 14,
   "metadata": {},
   "outputs": [
    {
     "data": {
      "text/plain": [
       "64222"
      ]
     },
     "execution_count": 14,
     "metadata": {},
     "output_type": "execute_result"
    }
   ],
   "source": [
    "#out_filter = ((heart[\"ap_hi\"]>250) | (heart[\"ap_lo\"]>200)) --> more restrictive\n",
    "out_filter = ((heart[\"ap_hi\"]>175) | (heart[\"ap_lo\"]>120))\n",
    "heart = heart[~out_filter]\n",
    "len(heart)"
   ]
  },
  {
   "cell_type": "code",
   "execution_count": 15,
   "metadata": {},
   "outputs": [
    {
     "data": {
      "text/plain": [
       "63961"
      ]
     },
     "execution_count": 15,
     "metadata": {},
     "output_type": "execute_result"
    }
   ],
   "source": [
    "# out_filter2 = ((heart[\"ap_hi\"] < 0) | (heart[\"ap_lo\"] < 0)) -->more restrictive\n",
    "out_filter2 = ((heart[\"ap_hi\"] < 75) | (heart[\"ap_lo\"] < 50))\n",
    "heart = heart[~out_filter2]\n",
    "len(heart)"
   ]
  },
  {
   "cell_type": "code",
   "execution_count": 16,
   "metadata": {},
   "outputs": [
    {
     "data": {
      "text/plain": [
       "34"
      ]
     },
     "execution_count": 16,
     "metadata": {},
     "output_type": "execute_result"
    }
   ],
   "source": [
    "heart[heart['ap_lo']> heart['ap_hi']].shape[0]  #34 is very less in 70k"
   ]
  },
  {
   "cell_type": "code",
   "execution_count": 17,
   "metadata": {},
   "outputs": [
    {
     "data": {
      "text/plain": [
       "['Normal', 'Hypertension']\n",
       "Categories (3, object): ['Normal' < 'Hypertension' < 'Hypertensive crisis']"
      ]
     },
     "execution_count": 17,
     "metadata": {},
     "output_type": "execute_result"
    }
   ],
   "source": [
    "#Collapse ap_hi into fewer groups\n",
    "ranges = [0, 130, 180, 320]\n",
    "group_names = ['Normal', 'Hypertension', 'Hypertensive crisis']\n",
    "heart['systolic'] = pd.cut(heart['ap_hi'], bins=ranges, labels=group_names)\n",
    "heart['systolic'].unique()"
   ]
  },
  {
   "cell_type": "code",
   "execution_count": 18,
   "metadata": {},
   "outputs": [
    {
     "data": {
      "text/plain": [
       "['Normal', 'Hypertension']\n",
       "Categories (3, object): ['Normal' < 'Hypertension' < 'Hypertensive crisis']"
      ]
     },
     "execution_count": 18,
     "metadata": {},
     "output_type": "execute_result"
    }
   ],
   "source": [
    "#Collapse ap_lo into fewer groups\n",
    "ranges = [-1, 81, 120, 201]\n",
    "group_names = ['Normal', 'Hypertension', 'Hypertensive crisis']\n",
    "heart['diastolic'] = pd.cut(heart['ap_lo'], bins=ranges, labels=group_names)\n",
    "heart['diastolic'].unique()"
   ]
  },
  {
   "cell_type": "markdown",
   "metadata": {},
   "source": [
    "Let's remove bmi"
   ]
  },
  {
   "cell_type": "code",
   "execution_count": 19,
   "metadata": {},
   "outputs": [
    {
     "name": "stdout",
     "output_type": "stream",
     "text": [
      "Maximum body mass index: 298.6666666666667\n",
      "Minimum body mass index: 3.471783865673526\n",
      "Number of body mass index: 3736\n"
     ]
    }
   ],
   "source": [
    "print('Maximum body mass index:',heart[\"bmi\"].max())\n",
    "print('Minimum body mass index:', heart[\"bmi\"].min())\n",
    "print('Number of body mass index:', heart[\"bmi\"].nunique())"
   ]
  },
  {
   "cell_type": "code",
   "execution_count": 20,
   "metadata": {},
   "outputs": [
    {
     "data": {
      "text/plain": [
       "63739"
      ]
     },
     "execution_count": 20,
     "metadata": {},
     "output_type": "execute_result"
    }
   ],
   "source": [
    "# out_filter2 = ((heart[\"bmi\"]>150))\n",
    "out_filter2 = ((heart[\"bmi\"]>50))\n",
    "heart = heart[~out_filter2]\n",
    "len(heart)"
   ]
  },
  {
   "cell_type": "markdown",
   "metadata": {},
   "source": [
    "Body Mass Index (BMI):\n",
    "BMI = mass(kg) / height(m2)\n",
    "Normal BMI values are said to be from 18.5 to 25.\n",
    "Drinking women have higher risks for CVD than drinking men based on thier BMI."
   ]
  },
  {
   "cell_type": "code",
   "execution_count": 21,
   "metadata": {},
   "outputs": [
    {
     "data": {
      "text/plain": [
       "['Normal', 'Obesity', 'Overweight', 'Underweight']\n",
       "Categories (4, object): ['Underweight' < 'Normal' < 'Overweight' < 'Obesity']"
      ]
     },
     "execution_count": 21,
     "metadata": {},
     "output_type": "execute_result"
    }
   ],
   "source": [
    "#Collapse bmi into fewer groups\n",
    "ranges = [0, 19, 25, 30, 160]\n",
    "group_names = ['Underweight', 'Normal', 'Overweight', 'Obesity']\n",
    "heart['bmi_group'] = pd.cut(heart['bmi'], bins=ranges, labels=group_names)\n",
    "heart['bmi_group'].unique()"
   ]
  },
  {
   "cell_type": "code",
   "execution_count": 22,
   "metadata": {},
   "outputs": [
    {
     "data": {
      "text/plain": [
       "<Axes: >"
      ]
     },
     "execution_count": 22,
     "metadata": {},
     "output_type": "execute_result"
    },
    {
     "data": {
      "image/png": "[encoded data removed]",
      "text/plain": [
       "<Figure size 640x480 with 1 Axes>"
      ]
     },
     "metadata": {},
     "output_type": "display_data"
    }
   ],
   "source": [
    "# plt.figure(num=None, figsize=(10.4, 6.4), dpi=900, facecolor='w', edgecolor='k')\n",
    "heart.plot(kind='box')\n",
    "# plt.axis(xmin=0,xmax=14,ymin=-1,ymax=5)\n",
    "# plt.show();"
   ]
  },
  {
   "cell_type": "code",
   "execution_count": 23,
   "metadata": {},
   "outputs": [
    {
     "name": "stdout",
     "output_type": "stream",
     "text": [
      "<class 'pandas.core.frame.DataFrame'>\n",
      "Index: 63739 entries, 0 to 69999\n",
      "Data columns (total 14 columns):\n",
      " #   Column       Non-Null Count  Dtype   \n",
      "---  ------       --------------  -----   \n",
      " 0   age          63739 non-null  int64   \n",
      " 1   gender       63739 non-null  int64   \n",
      " 2   ap_hi        63739 non-null  int64   \n",
      " 3   ap_lo        63739 non-null  int64   \n",
      " 4   cholesterol  63739 non-null  int64   \n",
      " 5   gluc         63739 non-null  int64   \n",
      " 6   smoke        63739 non-null  int64   \n",
      " 7   alco         63739 non-null  int64   \n",
      " 8   active       63739 non-null  int64   \n",
      " 9   cardio       63739 non-null  int64   \n",
      " 10  bmi          63739 non-null  float64 \n",
      " 11  systolic     63739 non-null  category\n",
      " 12  diastolic    63739 non-null  category\n",
      " 13  bmi_group    63739 non-null  category\n",
      "dtypes: category(3), float64(1), int64(10)\n",
      "memory usage: 6.0 MB\n"
     ]
    }
   ],
   "source": [
    "heart.info()"
   ]
  },
  {
   "cell_type": "code",
   "execution_count": 24,
   "metadata": {},
   "outputs": [
    {
     "data": {
      "text/html": [
       "<div>\n",
       "<style scoped>\n",
       "    .dataframe tbody tr th:only-of-type {\n",
       "        vertical-align: middle;\n",
       "    }\n",
       "\n",
       "    .dataframe tbody tr th {\n",
       "        vertical-align: top;\n",
       "    }\n",
       "\n",
       "    .dataframe thead th {\n",
       "        text-align: right;\n",
       "    }\n",
       "</style>\n",
       "<table border=\"1\" class=\"dataframe\">\n",
       "  <thead>\n",
       "    <tr style=\"text-align: right;\">\n",
       "      <th></th>\n",
       "      <th>age</th>\n",
       "      <th>gender</th>\n",
       "      <th>ap_hi</th>\n",
       "      <th>ap_lo</th>\n",
       "      <th>cholesterol</th>\n",
       "      <th>gluc</th>\n",
       "      <th>smoke</th>\n",
       "      <th>alco</th>\n",
       "      <th>active</th>\n",
       "      <th>cardio</th>\n",
       "      <th>bmi</th>\n",
       "    </tr>\n",
       "  </thead>\n",
       "  <tbody>\n",
       "    <tr>\n",
       "      <th>count</th>\n",
       "      <td>63739.000000</td>\n",
       "      <td>63739.000000</td>\n",
       "      <td>63739.000000</td>\n",
       "      <td>63739.000000</td>\n",
       "      <td>63739.000000</td>\n",
       "      <td>63739.000000</td>\n",
       "      <td>63739.000000</td>\n",
       "      <td>63739.000000</td>\n",
       "      <td>63739.000000</td>\n",
       "      <td>63739.000000</td>\n",
       "      <td>63739.000000</td>\n",
       "    </tr>\n",
       "    <tr>\n",
       "      <th>mean</th>\n",
       "      <td>53.318486</td>\n",
       "      <td>1.356140</td>\n",
       "      <td>126.169645</td>\n",
       "      <td>81.129591</td>\n",
       "      <td>1.379689</td>\n",
       "      <td>1.234911</td>\n",
       "      <td>0.092361</td>\n",
       "      <td>0.056057</td>\n",
       "      <td>0.797314</td>\n",
       "      <td>0.503130</td>\n",
       "      <td>27.474010</td>\n",
       "    </tr>\n",
       "    <tr>\n",
       "      <th>std</th>\n",
       "      <td>6.817238</td>\n",
       "      <td>0.478861</td>\n",
       "      <td>15.615916</td>\n",
       "      <td>9.280582</td>\n",
       "      <td>0.688366</td>\n",
       "      <td>0.581246</td>\n",
       "      <td>0.289537</td>\n",
       "      <td>0.230033</td>\n",
       "      <td>0.402004</td>\n",
       "      <td>0.499994</td>\n",
       "      <td>5.090400</td>\n",
       "    </tr>\n",
       "    <tr>\n",
       "      <th>min</th>\n",
       "      <td>30.000000</td>\n",
       "      <td>1.000000</td>\n",
       "      <td>80.000000</td>\n",
       "      <td>50.000000</td>\n",
       "      <td>1.000000</td>\n",
       "      <td>1.000000</td>\n",
       "      <td>0.000000</td>\n",
       "      <td>0.000000</td>\n",
       "      <td>0.000000</td>\n",
       "      <td>0.000000</td>\n",
       "      <td>3.471784</td>\n",
       "    </tr>\n",
       "    <tr>\n",
       "      <th>25%</th>\n",
       "      <td>48.000000</td>\n",
       "      <td>1.000000</td>\n",
       "      <td>120.000000</td>\n",
       "      <td>80.000000</td>\n",
       "      <td>1.000000</td>\n",
       "      <td>1.000000</td>\n",
       "      <td>0.000000</td>\n",
       "      <td>0.000000</td>\n",
       "      <td>1.000000</td>\n",
       "      <td>0.000000</td>\n",
       "      <td>23.875115</td>\n",
       "    </tr>\n",
       "    <tr>\n",
       "      <th>50%</th>\n",
       "      <td>54.000000</td>\n",
       "      <td>1.000000</td>\n",
       "      <td>120.000000</td>\n",
       "      <td>80.000000</td>\n",
       "      <td>1.000000</td>\n",
       "      <td>1.000000</td>\n",
       "      <td>0.000000</td>\n",
       "      <td>0.000000</td>\n",
       "      <td>1.000000</td>\n",
       "      <td>1.000000</td>\n",
       "      <td>26.502116</td>\n",
       "    </tr>\n",
       "    <tr>\n",
       "      <th>75%</th>\n",
       "      <td>58.000000</td>\n",
       "      <td>2.000000</td>\n",
       "      <td>140.000000</td>\n",
       "      <td>90.000000</td>\n",
       "      <td>2.000000</td>\n",
       "      <td>1.000000</td>\n",
       "      <td>0.000000</td>\n",
       "      <td>0.000000</td>\n",
       "      <td>1.000000</td>\n",
       "      <td>1.000000</td>\n",
       "      <td>30.385016</td>\n",
       "    </tr>\n",
       "    <tr>\n",
       "      <th>max</th>\n",
       "      <td>65.000000</td>\n",
       "      <td>2.000000</td>\n",
       "      <td>175.000000</td>\n",
       "      <td>120.000000</td>\n",
       "      <td>3.000000</td>\n",
       "      <td>3.000000</td>\n",
       "      <td>1.000000</td>\n",
       "      <td>1.000000</td>\n",
       "      <td>1.000000</td>\n",
       "      <td>1.000000</td>\n",
       "      <td>50.000000</td>\n",
       "    </tr>\n",
       "  </tbody>\n",
       "</table>\n",
       "</div>"
      ],
      "text/plain": [
       "                age        gender         ap_hi         ap_lo   cholesterol  \\\n",
       "count  63739.000000  63739.000000  63739.000000  63739.000000  63739.000000   \n",
       "mean      53.318486      1.356140    126.169645     81.129591      1.379689   \n",
       "std        6.817238      0.478861     15.615916      9.280582      0.688366   \n",
       "min       30.000000      1.000000     80.000000     50.000000      1.000000   \n",
       "25%       48.000000      1.000000    120.000000     80.000000      1.000000   \n",
       "50%       54.000000      1.000000    120.000000     80.000000      1.000000   \n",
       "75%       58.000000      2.000000    140.000000     90.000000      2.000000   \n",
       "max       65.000000      2.000000    175.000000    120.000000      3.000000   \n",
       "\n",
       "               gluc         smoke          alco        active        cardio  \\\n",
       "count  63739.000000  63739.000000  63739.000000  63739.000000  63739.000000   \n",
       "mean       1.234911      0.092361      0.056057      0.797314      0.503130   \n",
       "std        0.581246      0.289537      0.230033      0.402004      0.499994   \n",
       "min        1.000000      0.000000      0.000000      0.000000      0.000000   \n",
       "25%        1.000000      0.000000      0.000000      1.000000      0.000000   \n",
       "50%        1.000000      0.000000      0.000000      1.000000      1.000000   \n",
       "75%        1.000000      0.000000      0.000000      1.000000      1.000000   \n",
       "max        3.000000      1.000000      1.000000      1.000000      1.000000   \n",
       "\n",
       "                bmi  \n",
       "count  63739.000000  \n",
       "mean      27.474010  \n",
       "std        5.090400  \n",
       "min        3.471784  \n",
       "25%       23.875115  \n",
       "50%       26.502116  \n",
       "75%       30.385016  \n",
       "max       50.000000  "
      ]
     },
     "execution_count": 24,
     "metadata": {},
     "output_type": "execute_result"
    }
   ],
   "source": [
    "heart.describe()"
   ]
  },
  {
   "cell_type": "markdown",
   "metadata": {},
   "source": [
    "Thankfully, no NaN values"
   ]
  },
  {
   "cell_type": "markdown",
   "metadata": {},
   "source": [
    "Now, ananlyzing the traget variable"
   ]
  },
  {
   "cell_type": "code",
   "execution_count": 25,
   "metadata": {},
   "outputs": [
    {
     "data": {
      "text/plain": [
       "count    63739.000000\n",
       "mean         0.503130\n",
       "std          0.499994\n",
       "min          0.000000\n",
       "25%          0.000000\n",
       "50%          1.000000\n",
       "75%          1.000000\n",
       "max          1.000000\n",
       "Name: cardio, dtype: float64"
      ]
     },
     "execution_count": 25,
     "metadata": {},
     "output_type": "execute_result"
    }
   ],
   "source": [
    "heart[\"cardio\"].describe()"
   ]
  },
  {
   "cell_type": "code",
   "execution_count": 26,
   "metadata": {},
   "outputs": [
    {
     "data": {
      "text/plain": [
       "array([0, 1])"
      ]
     },
     "execution_count": 26,
     "metadata": {},
     "output_type": "execute_result"
    }
   ],
   "source": [
    "heart[\"cardio\"].unique()\n"
   ]
  },
  {
   "cell_type": "markdown",
   "metadata": {},
   "source": [
    "Clearly, this is a classification problem, with the target variable having values '0' and '1'"
   ]
  },
  {
   "cell_type": "code",
   "execution_count": 27,
   "metadata": {},
   "outputs": [
    {
     "name": "stdout",
     "output_type": "stream",
     "text": [
      "\n",
      "50.31% of the total count were diseased,\n",
      " amoung which 32.42% were female  and 17.90% were male \n"
     ]
    }
   ],
   "source": [
    "diseased=(len(heart[heart.cardio==1])/len(heart.cardio))*100\n",
    "diseased_male=len(heart[(heart.cardio==1) & (heart.gender==1)])/len(heart.cardio)*100\n",
    "diseased_female=len(heart[(heart.cardio==1) & (heart.gender==2)])/len(heart.cardio)*100\n",
    "\n",
    "print(\"\\n{:.2f}% of the total count were diseased,\\n amoung which {:.2f}% were female  and {:.2f}% were male \".format(diseased,diseased_male,diseased_female))"
   ]
  },
  {
   "cell_type": "code",
   "execution_count": 28,
   "metadata": {},
   "outputs": [
    {
     "name": "stdout",
     "output_type": "stream",
     "text": [
      "\n",
      "49.69% of the total count were not diseased,\n",
      "among which 17.72% were female.\n"
     ]
    }
   ],
   "source": [
    "non_diseased = (len(heart[heart.cardio == 0]) / len(heart.cardio)) * 100\n",
    "non_diseased_male = len(heart[(heart.cardio == 0) & (heart.gender == 1)]) / len(heart.cardio) * 100\n",
    "non_diseased_female = len(heart[(heart.cardio == 0) & (heart.gender == 2)]) / len(heart.cardio) * 100\n",
    "\n",
    "print(f\"\\n{non_diseased:.2f}% of the total count were not diseased,\\n\"\n",
    "      f\"among which {non_diseased_female:.2f}% were female.\")"
   ]
  },
  {
   "cell_type": "code",
   "execution_count": 29,
   "metadata": {},
   "outputs": [
    {
     "data": {
      "text/html": [
       "<div>\n",
       "<style scoped>\n",
       "    .dataframe tbody tr th:only-of-type {\n",
       "        vertical-align: middle;\n",
       "    }\n",
       "\n",
       "    .dataframe tbody tr th {\n",
       "        vertical-align: top;\n",
       "    }\n",
       "\n",
       "    .dataframe thead th {\n",
       "        text-align: right;\n",
       "    }\n",
       "</style>\n",
       "<table border=\"1\" class=\"dataframe\">\n",
       "  <thead>\n",
       "    <tr style=\"text-align: right;\">\n",
       "      <th></th>\n",
       "      <th>age</th>\n",
       "      <th>gender</th>\n",
       "      <th>ap_hi</th>\n",
       "      <th>ap_lo</th>\n",
       "      <th>cholesterol</th>\n",
       "      <th>gluc</th>\n",
       "      <th>smoke</th>\n",
       "      <th>alco</th>\n",
       "      <th>active</th>\n",
       "      <th>cardio</th>\n",
       "      <th>bmi</th>\n",
       "    </tr>\n",
       "  </thead>\n",
       "  <tbody>\n",
       "    <tr>\n",
       "      <th>age</th>\n",
       "      <td>1.000000</td>\n",
       "      <td>-0.023855</td>\n",
       "      <td>0.214330</td>\n",
       "      <td>0.153517</td>\n",
       "      <td>0.155715</td>\n",
       "      <td>0.098108</td>\n",
       "      <td>-0.050600</td>\n",
       "      <td>-0.031114</td>\n",
       "      <td>-0.009592</td>\n",
       "      <td>0.235581</td>\n",
       "      <td>0.102540</td>\n",
       "    </tr>\n",
       "    <tr>\n",
       "      <th>gender</th>\n",
       "      <td>-0.023855</td>\n",
       "      <td>1.000000</td>\n",
       "      <td>0.057452</td>\n",
       "      <td>0.065376</td>\n",
       "      <td>-0.046261</td>\n",
       "      <td>-0.027027</td>\n",
       "      <td>0.340993</td>\n",
       "      <td>0.170847</td>\n",
       "      <td>0.009207</td>\n",
       "      <td>-0.000855</td>\n",
       "      <td>-0.120184</td>\n",
       "    </tr>\n",
       "    <tr>\n",
       "      <th>ap_hi</th>\n",
       "      <td>0.214330</td>\n",
       "      <td>0.057452</td>\n",
       "      <td>1.000000</td>\n",
       "      <td>0.715029</td>\n",
       "      <td>0.185693</td>\n",
       "      <td>0.082658</td>\n",
       "      <td>0.017080</td>\n",
       "      <td>0.026865</td>\n",
       "      <td>0.006627</td>\n",
       "      <td>0.433279</td>\n",
       "      <td>0.256860</td>\n",
       "    </tr>\n",
       "    <tr>\n",
       "      <th>ap_lo</th>\n",
       "      <td>0.153517</td>\n",
       "      <td>0.065376</td>\n",
       "      <td>0.715029</td>\n",
       "      <td>1.000000</td>\n",
       "      <td>0.154403</td>\n",
       "      <td>0.067703</td>\n",
       "      <td>0.019187</td>\n",
       "      <td>0.033358</td>\n",
       "      <td>0.002650</td>\n",
       "      <td>0.338046</td>\n",
       "      <td>0.231957</td>\n",
       "    </tr>\n",
       "    <tr>\n",
       "      <th>cholesterol</th>\n",
       "      <td>0.155715</td>\n",
       "      <td>-0.046261</td>\n",
       "      <td>0.185693</td>\n",
       "      <td>0.154403</td>\n",
       "      <td>1.000000</td>\n",
       "      <td>0.440743</td>\n",
       "      <td>0.001714</td>\n",
       "      <td>0.027086</td>\n",
       "      <td>0.019288</td>\n",
       "      <td>0.213415</td>\n",
       "      <td>0.161662</td>\n",
       "    </tr>\n",
       "    <tr>\n",
       "      <th>gluc</th>\n",
       "      <td>0.098108</td>\n",
       "      <td>-0.027027</td>\n",
       "      <td>0.082658</td>\n",
       "      <td>0.067703</td>\n",
       "      <td>0.440743</td>\n",
       "      <td>1.000000</td>\n",
       "      <td>-0.011460</td>\n",
       "      <td>0.004771</td>\n",
       "      <td>0.000592</td>\n",
       "      <td>0.079339</td>\n",
       "      <td>0.107370</td>\n",
       "    </tr>\n",
       "    <tr>\n",
       "      <th>smoke</th>\n",
       "      <td>-0.050600</td>\n",
       "      <td>0.340993</td>\n",
       "      <td>0.017080</td>\n",
       "      <td>0.019187</td>\n",
       "      <td>0.001714</td>\n",
       "      <td>-0.011460</td>\n",
       "      <td>1.000000</td>\n",
       "      <td>0.337089</td>\n",
       "      <td>0.029818</td>\n",
       "      <td>-0.026436</td>\n",
       "      <td>-0.041925</td>\n",
       "    </tr>\n",
       "    <tr>\n",
       "      <th>alco</th>\n",
       "      <td>-0.031114</td>\n",
       "      <td>0.170847</td>\n",
       "      <td>0.026865</td>\n",
       "      <td>0.033358</td>\n",
       "      <td>0.027086</td>\n",
       "      <td>0.004771</td>\n",
       "      <td>0.337089</td>\n",
       "      <td>1.000000</td>\n",
       "      <td>0.029045</td>\n",
       "      <td>-0.016735</td>\n",
       "      <td>0.011806</td>\n",
       "    </tr>\n",
       "    <tr>\n",
       "      <th>active</th>\n",
       "      <td>-0.009592</td>\n",
       "      <td>0.009207</td>\n",
       "      <td>0.006627</td>\n",
       "      <td>0.002650</td>\n",
       "      <td>0.019288</td>\n",
       "      <td>0.000592</td>\n",
       "      <td>0.029818</td>\n",
       "      <td>0.029045</td>\n",
       "      <td>1.000000</td>\n",
       "      <td>-0.029432</td>\n",
       "      <td>-0.008770</td>\n",
       "    </tr>\n",
       "    <tr>\n",
       "      <th>cardio</th>\n",
       "      <td>0.235581</td>\n",
       "      <td>-0.000855</td>\n",
       "      <td>0.433279</td>\n",
       "      <td>0.338046</td>\n",
       "      <td>0.213415</td>\n",
       "      <td>0.079339</td>\n",
       "      <td>-0.026436</td>\n",
       "      <td>-0.016735</td>\n",
       "      <td>-0.029432</td>\n",
       "      <td>1.000000</td>\n",
       "      <td>0.181022</td>\n",
       "    </tr>\n",
       "    <tr>\n",
       "      <th>bmi</th>\n",
       "      <td>0.102540</td>\n",
       "      <td>-0.120184</td>\n",
       "      <td>0.256860</td>\n",
       "      <td>0.231957</td>\n",
       "      <td>0.161662</td>\n",
       "      <td>0.107370</td>\n",
       "      <td>-0.041925</td>\n",
       "      <td>0.011806</td>\n",
       "      <td>-0.008770</td>\n",
       "      <td>0.181022</td>\n",
       "      <td>1.000000</td>\n",
       "    </tr>\n",
       "  </tbody>\n",
       "</table>\n",
       "</div>"
      ],
      "text/plain": [
       "                  age    gender     ap_hi     ap_lo  cholesterol      gluc  \\\n",
       "age          1.000000 -0.023855  0.214330  0.153517     0.155715  0.098108   \n",
       "gender      -0.023855  1.000000  0.057452  0.065376    -0.046261 -0.027027   \n",
       "ap_hi        0.214330  0.057452  1.000000  0.715029     0.185693  0.082658   \n",
       "ap_lo        0.153517  0.065376  0.715029  1.000000     0.154403  0.067703   \n",
       "cholesterol  0.155715 -0.046261  0.185693  0.154403     1.000000  0.440743   \n",
       "gluc         0.098108 -0.027027  0.082658  0.067703     0.440743  1.000000   \n",
       "smoke       -0.050600  0.340993  0.017080  0.019187     0.001714 -0.011460   \n",
       "alco        -0.031114  0.170847  0.026865  0.033358     0.027086  0.004771   \n",
       "active      -0.009592  0.009207  0.006627  0.002650     0.019288  0.000592   \n",
       "cardio       0.235581 -0.000855  0.433279  0.338046     0.213415  0.079339   \n",
       "bmi          0.102540 -0.120184  0.256860  0.231957     0.161662  0.107370   \n",
       "\n",
       "                smoke      alco    active    cardio       bmi  \n",
       "age         -0.050600 -0.031114 -0.009592  0.235581  0.102540  \n",
       "gender       0.340993  0.170847  0.009207 -0.000855 -0.120184  \n",
       "ap_hi        0.017080  0.026865  0.006627  0.433279  0.256860  \n",
       "ap_lo        0.019187  0.033358  0.002650  0.338046  0.231957  \n",
       "cholesterol  0.001714  0.027086  0.019288  0.213415  0.161662  \n",
       "gluc        -0.011460  0.004771  0.000592  0.079339  0.107370  \n",
       "smoke        1.000000  0.337089  0.029818 -0.026436 -0.041925  \n",
       "alco         0.337089  1.000000  0.029045 -0.016735  0.011806  \n",
       "active       0.029818  0.029045  1.000000 -0.029432 -0.008770  \n",
       "cardio      -0.026436 -0.016735 -0.029432  1.000000  0.181022  \n",
       "bmi         -0.041925  0.011806 -0.008770  0.181022  1.000000  "
      ]
     },
     "execution_count": 29,
     "metadata": {},
     "output_type": "execute_result"
    }
   ],
   "source": [
    "#check for correlation among the numerical columns\n",
    "correlation = heart.select_dtypes('number').corr()\n",
    "correlation"
   ]
  },
  {
   "cell_type": "code",
   "execution_count": 32,
   "metadata": {},
   "outputs": [
    {
     "data": {
      "image/png": "[encoded data removed]",
      "text/plain": [
       "<Figure size 640x480 with 2 Axes>"
      ]
     },
     "metadata": {},
     "output_type": "display_data"
    }
   ],
   "source": [
    "import seaborn as sns\n",
    "#visualise the correlation\n",
    "sns.heatmap(correlation, annot=True, vmin=-1, vmax=1, cmap='Purples', linewidth=0.5);"
   ]
  },
  {
   "cell_type": "markdown",
   "metadata": {},
   "source": [
    "here we can see ap_hi and ap_lo are little bit dependent\n",
    "gluc and cholesterol are also dependent"
   ]
  },
  {
   "cell_type": "markdown",
   "metadata": {},
   "source": [
    "ANALYZING EDA"
   ]
  },
  {
   "cell_type": "code",
   "execution_count": 32,
   "metadata": {},
   "outputs": [
    {
     "name": "stdout",
     "output_type": "stream",
     "text": [
      "cardio\n",
      "1    32069\n",
      "0    31670\n",
      "Name: count, dtype: int64\n"
     ]
    },
    {
     "data": {
      "image/png": "[encoded data removed]",
      "text/plain": [
       "<Figure size 640x480 with 1 Axes>"
      ]
     },
     "metadata": {},
     "output_type": "display_data"
    }
   ],
   "source": [
    "\n",
    "# Check the distribution of the \"cardio\" column\n",
    "y = heart[\"cardio\"]\n",
    "sns.countplot(x=y, palette=\"muted\")\n",
    "\n",
    "# Calculate and print value counts for the \"cardio\" column\n",
    "target_temp = heart[\"cardio\"].value_counts()\n",
    "print(target_temp)\n",
    "\n",
    "# Display the plot\n",
    "plt.title(\"Distribution of Cardio\")\n",
    "plt.xlabel(\"Cardio\")\n",
    "plt.ylabel(\"Count\")\n",
    "plt.show()\n",
    "\n",
    "#blue= 0, orange=1"
   ]
  },
  {
   "cell_type": "code",
   "execution_count": 34,
   "metadata": {},
   "outputs": [
    {
     "data": {
      "text/plain": [
       "<Axes: xlabel='gender', ylabel='cardio'>"
      ]
     },
     "execution_count": 34,
     "metadata": {},
     "output_type": "execute_result"
    },
    {
     "data": {
      "image/png": "[encoded data removed]",
      "text/plain": [
       "<Figure size 640x480 with 1 Axes>"
      ]
     },
     "metadata": {},
     "output_type": "display_data"
    }
   ],
   "source": [
    "sns.barplot(x=heart[\"gender\"], y=y)\n",
    "# For each gender (1 and 2), the bar height represents the average value of the \"cardio\" column:\n",
    "\n",
    "# If \"cardio\" is binary (0 or 1), the mean value is equivalent to the proportion of 1s (or the fraction of individuals with cardio issues) in that gender group.\n",
    "# Example:\n",
    "# If 50% of individuals with gender 1 have cardio = 1, the bar for gender 1 will be at 0.5.\n",
    "# If 40% of individuals with gender 2 have cardio = 1, the bar for gender 2 will be at 0.4."
   ]
  },
  {
   "cell_type": "markdown",
   "metadata": {},
   "source": [
    "avg value of y for each men and women is ploted, we see data se balanced"
   ]
  },
  {
   "cell_type": "code",
   "execution_count": 35,
   "metadata": {},
   "outputs": [
    {
     "data": {
      "text/plain": [
       "<Axes: xlabel='cardio', ylabel='count'>"
      ]
     },
     "execution_count": 35,
     "metadata": {},
     "output_type": "execute_result"
    },
    {
     "data": {
      "image/png": "[encoded data removed]",
      "text/plain": [
       "<Figure size 640x480 with 1 Axes>"
      ]
     },
     "metadata": {},
     "output_type": "display_data"
    }
   ],
   "source": [
    "sns.countplot(x='cardio',hue='gender',data=heart)"
   ]
  },
  {
   "cell_type": "markdown",
   "metadata": {},
   "source": [
    "count of occurance of each category, women have higher  chance"
   ]
  },
  {
   "cell_type": "code",
   "execution_count": 36,
   "metadata": {},
   "outputs": [
    {
     "data": {
      "image/png": "[encoded data removed]",
      "text/plain": [
       "<Figure size 1000x500 with 1 Axes>"
      ]
     },
     "metadata": {},
     "output_type": "display_data"
    }
   ],
   "source": [
    "pd.crosstab(heart.gender, heart.cardio).plot(kind=\"bar\",figsize=(10,5),color=['#9781cc','#d48cac' ])\n",
    "plt.title(\"frequency of disease vs gender\")\n",
    "plt.ylabel('range')\n",
    "plt.xlabel('female vs male  ')\n",
    "plt.legend([\"Diseased\",\"Not Diseased\"])\n",
    "plt.show()"
   ]
  },
  {
   "cell_type": "code",
   "execution_count": 37,
   "metadata": {},
   "outputs": [
    {
     "data": {
      "text/plain": [
       "<Axes: xlabel='cholesterol', ylabel='cardio'>"
      ]
     },
     "execution_count": 37,
     "metadata": {},
     "output_type": "execute_result"
    },
    {
     "data": {
      "image/png": "[encoded data removed]",
      "text/plain": [
       "<Figure size 640x480 with 1 Axes>"
      ]
     },
     "metadata": {},
     "output_type": "display_data"
    }
   ],
   "source": [
    "sns.barplot(data=heart,x=\"cholesterol\", y=\"cardio\")\n",
    "# plt.show()\n"
   ]
  },
  {
   "cell_type": "markdown",
   "metadata": {},
   "source": [
    "As the cholesterol level increases (from 1 to 3), the proportion of individuals with cardiovascular disease also seems to increase."
   ]
  },
  {
   "cell_type": "code",
   "execution_count": 38,
   "metadata": {},
   "outputs": [
    {
     "name": "stdout",
     "output_type": "stream",
     "text": [
      "cholesterol  cardio\n",
      "1            0         26145\n",
      "             1         20988\n",
      "2            0          3707\n",
      "             1          5304\n",
      "3            0          1818\n",
      "             1          5777\n",
      "dtype: int64\n"
     ]
    }
   ],
   "source": [
    "value_counts = heart.groupby([\"cholesterol\", \"cardio\"]).size()\n",
    "\n",
    "print(value_counts)"
   ]
  },
  {
   "cell_type": "code",
   "execution_count": 39,
   "metadata": {},
   "outputs": [
    {
     "data": {
      "image/png": "[encoded data removed]",
      "text/plain": [
       "<Figure size 640x480 with 1 Axes>"
      ]
     },
     "metadata": {},
     "output_type": "display_data"
    }
   ],
   "source": [
    "\n",
    "# Calculate the value count of \"cardio\" for each unique \"cholesterol\" value\n",
    "value_counts = heart.groupby(\"cholesterol\")[\"cardio\"].value_counts().unstack()\n",
    "\n",
    "# Plot the value counts\n",
    "ax = value_counts.plot(kind=\"bar\", stacked=True)\n",
    "\n",
    "# Customize the plot\n",
    "ax.set_xlabel(\"Cholesterol\")\n",
    "ax.set_ylabel(\"Count\")\n",
    "ax.set_title(\"Cholesterol with respect to Cardio Count\")\n",
    "plt.legend(title=\"Cardio\", loc=\"upper right\")\n",
    "\n",
    "# Display the plot\n",
    "plt.show()"
   ]
  },
  {
   "cell_type": "code",
   "execution_count": 40,
   "metadata": {},
   "outputs": [
    {
     "name": "stdout",
     "output_type": "stream",
     "text": [
      "Index(['age', 'gender', 'ap_hi', 'ap_lo', 'cholesterol', 'gluc', 'smoke',\n",
      "       'alco', 'active', 'cardio', 'bmi', 'systolic', 'diastolic',\n",
      "       'bmi_group'],\n",
      "      dtype='object')\n"
     ]
    }
   ],
   "source": [
    "print(heart.columns)\n"
   ]
  },
  {
   "cell_type": "code",
   "execution_count": 41,
   "metadata": {},
   "outputs": [
    {
     "data": {
      "text/plain": [
       "<Axes: xlabel='gluc', ylabel='cardio'>"
      ]
     },
     "execution_count": 41,
     "metadata": {},
     "output_type": "execute_result"
    },
    {
     "data": {
      "image/png": "[encoded data removed]",
      "text/plain": [
       "<Figure size 640x480 with 1 Axes>"
      ]
     },
     "metadata": {},
     "output_type": "display_data"
    }
   ],
   "source": [
    "sns.barplot(data=heart,x=\"gluc\", y=\"cardio\")\n",
    "\n",
    "#1: normal, 2: above normal, 3: well above normal"
   ]
  },
  {
   "cell_type": "code",
   "execution_count": 42,
   "metadata": {},
   "outputs": [
    {
     "data": {
      "text/plain": [
       "<Axes: xlabel='smoke', ylabel='cardio'>"
      ]
     },
     "execution_count": 42,
     "metadata": {},
     "output_type": "execute_result"
    },
    {
     "data": {
      "image/png": "[encoded data removed]",
      "text/plain": [
       "<Figure size 640x480 with 1 Axes>"
      ]
     },
     "metadata": {},
     "output_type": "display_data"
    }
   ],
   "source": [
    "sns.barplot(data=heart,x=\"smoke\", y=\"cardio\")\n",
    "# plt.show()"
   ]
  },
  {
   "cell_type": "code",
   "execution_count": 43,
   "metadata": {},
   "outputs": [
    {
     "data": {
      "text/plain": [
       "<Axes: xlabel='alco', ylabel='cardio'>"
      ]
     },
     "execution_count": 43,
     "metadata": {},
     "output_type": "execute_result"
    },
    {
     "data": {
      "image/png": "[encoded data removed]",
      "text/plain": [
       "<Figure size 640x480 with 1 Axes>"
      ]
     },
     "metadata": {},
     "output_type": "display_data"
    }
   ],
   "source": [
    "sns.barplot(data=heart,x=\"alco\", y=\"cardio\")\n",
    "# plt.show()"
   ]
  },
  {
   "cell_type": "code",
   "execution_count": 44,
   "metadata": {},
   "outputs": [
    {
     "data": {
      "text/plain": [
       "gender\n",
       "1    1101\n",
       "2    2472\n",
       "Name: alco, dtype: int64"
      ]
     },
     "execution_count": 44,
     "metadata": {},
     "output_type": "execute_result"
    }
   ],
   "source": [
    "heart.groupby('gender')['alco'].sum()"
   ]
  },
  {
   "cell_type": "markdown",
   "metadata": {},
   "source": [
    "males have higher alcohol consumption"
   ]
  },
  {
   "cell_type": "code",
   "execution_count": 45,
   "metadata": {},
   "outputs": [
    {
     "data": {
      "image/png": "[encoded data removed]",
      "text/plain": [
       "<Figure size 640x480 with 1 Axes>"
      ]
     },
     "metadata": {},
     "output_type": "display_data"
    }
   ],
   "source": [
    "sns.barplot(data=heart,x=\"active\", y=\"cardio\") #physical activity\n",
    "plt.show()"
   ]
  },
  {
   "cell_type": "code",
   "execution_count": 46,
   "metadata": {},
   "outputs": [
    {
     "data": {
      "text/plain": [
       "<Axes: ylabel='Frequency'>"
      ]
     },
     "execution_count": 46,
     "metadata": {},
     "output_type": "execute_result"
    },
    {
     "data": {
      "image/png": "[encoded data removed]",
      "text/plain": [
       "<Figure size 640x480 with 1 Axes>"
      ]
     },
     "metadata": {},
     "output_type": "display_data"
    }
   ],
   "source": [
    "heart['ap_hi'].plot.hist()"
   ]
  },
  {
   "cell_type": "markdown",
   "metadata": {},
   "source": [
    "The distribution appears to be roughly bell-shaped or normal, with a peak around the 120-125 range. This suggests that a majority of individuals in the dataset have systolic blood pressure values within this range."
   ]
  },
  {
   "cell_type": "code",
   "execution_count": 47,
   "metadata": {},
   "outputs": [
    {
     "data": {
      "text/plain": [
       "<Axes: ylabel='Frequency'>"
      ]
     },
     "execution_count": 47,
     "metadata": {},
     "output_type": "execute_result"
    },
    {
     "data": {
      "image/png": "[encoded data removed]",
      "text/plain": [
       "<Figure size 640x480 with 1 Axes>"
      ]
     },
     "metadata": {},
     "output_type": "display_data"
    }
   ],
   "source": [
    "heart['ap_lo'].plot.hist()"
   ]
  },
  {
   "cell_type": "markdown",
   "metadata": {},
   "source": [
    " The distribution appears to be skewed to the right. This means that there are more data points with lower diastolic blood pressure values and fewer data points with higher values.\n",
    "Peak: The distribution has a peak around the 80-85 range, suggesting that this is the most common diastolic blood pressure value in the dataset."
   ]
  },
  {
   "cell_type": "code",
   "execution_count": 48,
   "metadata": {},
   "outputs": [
    {
     "data": {
      "text/plain": [
       "<Axes: ylabel='Frequency'>"
      ]
     },
     "execution_count": 48,
     "metadata": {},
     "output_type": "execute_result"
    },
    {
     "data": {
      "image/png": "[encoded data removed]",
      "text/plain": [
       "<Figure size 640x480 with 1 Axes>"
      ]
     },
     "metadata": {},
     "output_type": "display_data"
    }
   ],
   "source": [
    "heart['bmi'].plot.hist()"
   ]
  },
  {
   "cell_type": "markdown",
   "metadata": {},
   "source": [
    "The distribution appears to be skewed to the right. This means that there are more data points with lower BMI values and fewer data points with higher BMI values."
   ]
  },
  {
   "cell_type": "code",
   "execution_count": 49,
   "metadata": {},
   "outputs": [
    {
     "data": {
      "image/png": "[encoded data removed]",
      "text/plain": [
       "<Figure size 750x750 with 12 Axes>"
      ]
     },
     "metadata": {},
     "output_type": "display_data"
    }
   ],
   "source": [
    "#Visualize the relationships among age, bmi and avg_glucose_level\n",
    "columns= ['age', 'bmi', 'cholesterol']\n",
    "sns.pairplot(heart[columns])\n",
    "plt.show()"
   ]
  },
  {
   "cell_type": "markdown",
   "metadata": {},
   "source": [
    "Observations:\n",
    "\n",
    "Age vs. BMI:\n",
    "\n",
    "The scatter plot indicates that BMI values are mostly concentrated between 20 and 40, regardless of age.\n",
    "There is no strong trend or clear relationship between age and BMI.\n",
    "\n",
    "Age vs. Cholesterol:\n",
    "\n",
    "Cholesterol levels (1, 2, and 3) are categorical, and no specific trend can be observed between age and cholesterol.\n",
    "\n",
    "BMI vs. Cholesterol:\n",
    "\n",
    "Similar to age, cholesterol is categorical, and BMI does not exhibit a clear correlation with cholesterol categories.\n",
    "BMI is clustered between 20 and 40 for all cholesterol levels (1, 2, 3).\n"
   ]
  },
  {
   "cell_type": "markdown",
   "metadata": {},
   "source": [
    "Binary encoding"
   ]
  },
  {
   "cell_type": "code",
   "execution_count": 30,
   "metadata": {},
   "outputs": [],
   "source": [
    "labelencoder = LabelEncoder()\n",
    "heart['gender']=labelencoder.fit_transform(heart['gender'])"
   ]
  },
  {
   "cell_type": "code",
   "execution_count": 31,
   "metadata": {},
   "outputs": [],
   "source": [
    "\n",
    "#Encode for categorical columns\n",
    "#fit divides it into categries\n",
    "#transform maps categoricak values to integrer representations\n",
    "cat_cols = ['systolic', 'diastolic', 'bmi_group']\n",
    "\n",
    "for col in cat_cols:\n",
    "    heart[col] = labelencoder.fit_transform(heart[col])"
   ]
  },
  {
   "cell_type": "code",
   "execution_count": 32,
   "metadata": {},
   "outputs": [
    {
     "data": {
      "text/html": [
       "<div>\n",
       "<style scoped>\n",
       "    .dataframe tbody tr th:only-of-type {\n",
       "        vertical-align: middle;\n",
       "    }\n",
       "\n",
       "    .dataframe tbody tr th {\n",
       "        vertical-align: top;\n",
       "    }\n",
       "\n",
       "    .dataframe thead th {\n",
       "        text-align: right;\n",
       "    }\n",
       "</style>\n",
       "<table border=\"1\" class=\"dataframe\">\n",
       "  <thead>\n",
       "    <tr style=\"text-align: right;\">\n",
       "      <th></th>\n",
       "      <th>age</th>\n",
       "      <th>gender</th>\n",
       "      <th>ap_hi</th>\n",
       "      <th>ap_lo</th>\n",
       "      <th>cholesterol</th>\n",
       "      <th>gluc</th>\n",
       "      <th>smoke</th>\n",
       "      <th>alco</th>\n",
       "      <th>active</th>\n",
       "      <th>cardio</th>\n",
       "      <th>bmi</th>\n",
       "      <th>systolic</th>\n",
       "      <th>diastolic</th>\n",
       "      <th>bmi_group</th>\n",
       "    </tr>\n",
       "  </thead>\n",
       "  <tbody>\n",
       "    <tr>\n",
       "      <th>58307</th>\n",
       "      <td>40</td>\n",
       "      <td>1</td>\n",
       "      <td>110</td>\n",
       "      <td>70</td>\n",
       "      <td>2</td>\n",
       "      <td>1</td>\n",
       "      <td>0</td>\n",
       "      <td>0</td>\n",
       "      <td>1</td>\n",
       "      <td>1</td>\n",
       "      <td>24.489796</td>\n",
       "      <td>1</td>\n",
       "      <td>1</td>\n",
       "      <td>0</td>\n",
       "    </tr>\n",
       "    <tr>\n",
       "      <th>48802</th>\n",
       "      <td>54</td>\n",
       "      <td>1</td>\n",
       "      <td>130</td>\n",
       "      <td>90</td>\n",
       "      <td>2</td>\n",
       "      <td>1</td>\n",
       "      <td>0</td>\n",
       "      <td>0</td>\n",
       "      <td>1</td>\n",
       "      <td>0</td>\n",
       "      <td>28.685145</td>\n",
       "      <td>1</td>\n",
       "      <td>0</td>\n",
       "      <td>2</td>\n",
       "    </tr>\n",
       "    <tr>\n",
       "      <th>20449</th>\n",
       "      <td>52</td>\n",
       "      <td>1</td>\n",
       "      <td>140</td>\n",
       "      <td>90</td>\n",
       "      <td>1</td>\n",
       "      <td>1</td>\n",
       "      <td>0</td>\n",
       "      <td>0</td>\n",
       "      <td>1</td>\n",
       "      <td>1</td>\n",
       "      <td>21.295295</td>\n",
       "      <td>0</td>\n",
       "      <td>0</td>\n",
       "      <td>0</td>\n",
       "    </tr>\n",
       "    <tr>\n",
       "      <th>59121</th>\n",
       "      <td>56</td>\n",
       "      <td>0</td>\n",
       "      <td>130</td>\n",
       "      <td>80</td>\n",
       "      <td>1</td>\n",
       "      <td>1</td>\n",
       "      <td>0</td>\n",
       "      <td>0</td>\n",
       "      <td>1</td>\n",
       "      <td>0</td>\n",
       "      <td>26.037494</td>\n",
       "      <td>1</td>\n",
       "      <td>1</td>\n",
       "      <td>2</td>\n",
       "    </tr>\n",
       "    <tr>\n",
       "      <th>8017</th>\n",
       "      <td>52</td>\n",
       "      <td>0</td>\n",
       "      <td>150</td>\n",
       "      <td>110</td>\n",
       "      <td>3</td>\n",
       "      <td>2</td>\n",
       "      <td>0</td>\n",
       "      <td>0</td>\n",
       "      <td>1</td>\n",
       "      <td>1</td>\n",
       "      <td>39.564441</td>\n",
       "      <td>0</td>\n",
       "      <td>0</td>\n",
       "      <td>1</td>\n",
       "    </tr>\n",
       "  </tbody>\n",
       "</table>\n",
       "</div>"
      ],
      "text/plain": [
       "       age  gender  ap_hi  ap_lo  cholesterol  gluc  smoke  alco  active  \\\n",
       "58307   40       1    110     70            2     1      0     0       1   \n",
       "48802   54       1    130     90            2     1      0     0       1   \n",
       "20449   52       1    140     90            1     1      0     0       1   \n",
       "59121   56       0    130     80            1     1      0     0       1   \n",
       "8017    52       0    150    110            3     2      0     0       1   \n",
       "\n",
       "       cardio        bmi  systolic  diastolic  bmi_group  \n",
       "58307       1  24.489796         1          1          0  \n",
       "48802       0  28.685145         1          0          2  \n",
       "20449       1  21.295295         0          0          0  \n",
       "59121       0  26.037494         1          1          2  \n",
       "8017        1  39.564441         0          0          1  "
      ]
     },
     "execution_count": 32,
     "metadata": {},
     "output_type": "execute_result"
    }
   ],
   "source": [
    "heart.sample(5)"
   ]
  },
  {
   "cell_type": "markdown",
   "metadata": {},
   "source": [
    "Train Test Split"
   ]
  },
  {
   "cell_type": "code",
   "execution_count": 38,
   "metadata": {},
   "outputs": [
    {
     "data": {
      "text/plain": [
       "Index(['age', 'gender', 'ap_hi', 'ap_lo', 'cholesterol', 'gluc', 'smoke',\n",
       "       'alco', 'active', 'bmi', 'systolic', 'diastolic', 'bmi_group'],\n",
       "      dtype='object')"
      ]
     },
     "execution_count": 38,
     "metadata": {},
     "output_type": "execute_result"
    }
   ],
   "source": [
    "#Splitting attributes and target variable\n",
    "x = heart.drop(['cardio'], axis=1)\n",
    "y = heart['cardio']\n",
    "x.columns\n",
    "\n"
   ]
  },
  {
   "cell_type": "code",
   "execution_count": 44,
   "metadata": {},
   "outputs": [],
   "source": [
    "y = y.to_frame(name='cardio')"
   ]
  },
  {
   "cell_type": "code",
   "execution_count": 45,
   "metadata": {},
   "outputs": [
    {
     "name": "stdout",
     "output_type": "stream",
     "text": [
      "<class 'pandas.core.frame.DataFrame'>\n"
     ]
    }
   ],
   "source": [
    "print(type(y))"
   ]
  },
  {
   "cell_type": "code",
   "execution_count": 39,
   "metadata": {},
   "outputs": [
    {
     "data": {
      "text/plain": [
       "Index(['age', 'gender', 'ap_hi', 'ap_lo', 'cholesterol', 'gluc', 'smoke',\n",
       "       'alco', 'active', 'bmi', 'systolic', 'diastolic', 'bmi_group'],\n",
       "      dtype='object')"
      ]
     },
     "execution_count": 39,
     "metadata": {},
     "output_type": "execute_result"
    }
   ],
   "source": [
    "x.columns"
   ]
  },
  {
   "cell_type": "code",
   "execution_count": 46,
   "metadata": {},
   "outputs": [
    {
     "data": {
      "text/html": [
       "<div>\n",
       "<style scoped>\n",
       "    .dataframe tbody tr th:only-of-type {\n",
       "        vertical-align: middle;\n",
       "    }\n",
       "\n",
       "    .dataframe tbody tr th {\n",
       "        vertical-align: top;\n",
       "    }\n",
       "\n",
       "    .dataframe thead th {\n",
       "        text-align: right;\n",
       "    }\n",
       "</style>\n",
       "<table border=\"1\" class=\"dataframe\">\n",
       "  <thead>\n",
       "    <tr style=\"text-align: right;\">\n",
       "      <th></th>\n",
       "      <th>cardio</th>\n",
       "    </tr>\n",
       "  </thead>\n",
       "  <tbody>\n",
       "    <tr>\n",
       "      <th>0</th>\n",
       "      <td>0</td>\n",
       "    </tr>\n",
       "    <tr>\n",
       "      <th>1</th>\n",
       "      <td>1</td>\n",
       "    </tr>\n",
       "    <tr>\n",
       "      <th>2</th>\n",
       "      <td>1</td>\n",
       "    </tr>\n",
       "    <tr>\n",
       "      <th>3</th>\n",
       "      <td>1</td>\n",
       "    </tr>\n",
       "    <tr>\n",
       "      <th>4</th>\n",
       "      <td>0</td>\n",
       "    </tr>\n",
       "    <tr>\n",
       "      <th>...</th>\n",
       "      <td>...</td>\n",
       "    </tr>\n",
       "    <tr>\n",
       "      <th>69993</th>\n",
       "      <td>1</td>\n",
       "    </tr>\n",
       "    <tr>\n",
       "      <th>69994</th>\n",
       "      <td>1</td>\n",
       "    </tr>\n",
       "    <tr>\n",
       "      <th>69995</th>\n",
       "      <td>0</td>\n",
       "    </tr>\n",
       "    <tr>\n",
       "      <th>69998</th>\n",
       "      <td>1</td>\n",
       "    </tr>\n",
       "    <tr>\n",
       "      <th>69999</th>\n",
       "      <td>0</td>\n",
       "    </tr>\n",
       "  </tbody>\n",
       "</table>\n",
       "<p>63739 rows × 1 columns</p>\n",
       "</div>"
      ],
      "text/plain": [
       "       cardio\n",
       "0           0\n",
       "1           1\n",
       "2           1\n",
       "3           1\n",
       "4           0\n",
       "...       ...\n",
       "69993       1\n",
       "69994       1\n",
       "69995       0\n",
       "69998       1\n",
       "69999       0\n",
       "\n",
       "[63739 rows x 1 columns]"
      ]
     },
     "execution_count": 46,
     "metadata": {},
     "output_type": "execute_result"
    }
   ],
   "source": [
    "\n",
    "y"
   ]
  },
  {
   "cell_type": "markdown",
   "metadata": {},
   "source": [
    "z = (v - mean) / standard_deviation"
   ]
  },
  {
   "cell_type": "code",
   "execution_count": 35,
   "metadata": {},
   "outputs": [],
   "source": [
    "from sklearn.preprocessing import StandardScaler\n",
    "scaler = StandardScaler()\n",
    "x = scaler.fit_transform(x)"
   ]
  },
  {
   "cell_type": "code",
   "execution_count": 40,
   "metadata": {},
   "outputs": [
    {
     "data": {
      "text/plain": [
       "Index(['age', 'gender', 'ap_hi', 'ap_lo', 'cholesterol', 'gluc', 'smoke',\n",
       "       'alco', 'active', 'bmi', 'systolic', 'diastolic', 'bmi_group'],\n",
       "      dtype='object')"
      ]
     },
     "execution_count": 40,
     "metadata": {},
     "output_type": "execute_result"
    }
   ],
   "source": [
    "#split data into traning and testing data\n",
    "x_train, x_test, y_train, y_test = train_test_split(x, y, test_size=0.25, random_state=42)\n",
    "x.columns"
   ]
  },
  {
   "cell_type": "code",
   "execution_count": 41,
   "metadata": {},
   "outputs": [],
   "source": [
    "x_train = pd.DataFrame(x_train, columns=x.columns)\n",
    "x_test = pd.DataFrame(x_test, columns=x.columns)"
   ]
  },
  {
   "cell_type": "code",
   "execution_count": 42,
   "metadata": {},
   "outputs": [
    {
     "data": {
      "text/plain": [
       "(15935, 13)"
      ]
     },
     "execution_count": 42,
     "metadata": {},
     "output_type": "execute_result"
    }
   ],
   "source": [
    "x_train.shape\n",
    "x_test.shape\n"
   ]
  },
  {
   "cell_type": "code",
   "execution_count": 43,
   "metadata": {},
   "outputs": [
    {
     "data": {
      "text/plain": [
       "(15935,)"
      ]
     },
     "execution_count": 43,
     "metadata": {},
     "output_type": "execute_result"
    }
   ],
   "source": [
    "y_train.shape\n",
    "y_test.shape"
   ]
  },
  {
   "cell_type": "markdown",
   "metadata": {},
   "source": [
    "LINEAR REGRESSION-  computes the linear relationship between the dependent variable and one or more independent features by fitting a linear equation to observed data."
   ]
  },
  {
   "cell_type": "code",
   "execution_count": 47,
   "metadata": {},
   "outputs": [
    {
     "name": "stdout",
     "output_type": "stream",
     "text": [
      "Coefficients: [-9.99379289e-01  1.02208764e-02  2.72204546e-03  6.80009744e-03\n",
      "  7.20288686e-04  8.42736832e-02 -2.05524206e-02 -2.90464173e-02\n",
      " -4.14651334e-02 -4.58802886e-02  4.99187533e-03 -1.54829761e-01\n",
      " -5.70946679e-02  5.87707602e-03]\n"
     ]
    }
   ],
   "source": [
    "def multiple_linear_regression(X, y):\n",
    "    \n",
    "    # Add a column of ones for the intercept term\n",
    "#     np.ones((X.shape[0], 1)) creates a NumPy array filled with ones. The shape of this array is (X.shape[0], 1), which means it has the same number of rows as the input feature matrix X and one column. This column of ones is used to represent the intercept term in the linear regression model.\n",
    "# np.concatenate((...), axis=1) concatenates the column of ones with the original feature matrix X horizontally (along axis=1). This effectively adds a column of ones to the beginning of X.\n",
    "    X = np.concatenate((np.ones((X.shape[0], 1)), X), axis=1)\n",
    "    #Normal Equation\n",
    "    coefficients = np.linalg.inv(X.T @ X) @ X.T @ y\n",
    "    return coefficients\n",
    "\n",
    "\n",
    "\n",
    "coefficients = multiple_linear_regression(x_train, y_train)\n",
    "print(\"Coefficients:\", coefficients)\n",
    "\n",
    "# Separate intercept and coefficients\n",
    "intercept = coefficients[0]\n",
    "slopes = coefficients[1:]\n",
    "\n",
    "# Make predictions\n",
    "X_test_with_ones = np.concatenate((np.ones((x_test.shape[0], 1)), x_test), axis=1)\n",
    "predictions = X_test_with_ones @ coefficients\n",
    "\n"
   ]
  },
  {
   "cell_type": "markdown",
   "metadata": {},
   "source": [
    "Let's say your first feature is \"age\" and its coefficient is 0.0696776. This would mean that, holding all other features constant, for every one-year increase in age, the model predicts an increase of approximately 0.0696776 in the target variable.\n",
    "\n",
    "Similarly, if your 12th feature has a coefficient of -0.06922371, this means that a one-unit increase in that feature is associated with a decrease of approximately 0.06922371 in the target variable "
   ]
  },
  {
   "cell_type": "markdown",
   "metadata": {},
   "source": [
    "Accuracy- (Number of correct predictions) / (Total number of predictions) "
   ]
  },
  {
   "cell_type": "code",
   "execution_count": 48,
   "metadata": {},
   "outputs": [
    {
     "name": "stdout",
     "output_type": "stream",
     "text": [
      "Linear Regression Training Accuracy: 0.720044347753326\n",
      "Linear Regression Test Accuracy: 0.7258864135550674\n"
     ]
    }
   ],
   "source": [
    "binary_predictions = np.round(predictions) \n",
    " #This line rounds the predictions to the nearest integer, converting the continuous predictions to binary predictions\n",
    "X_train_with_ones = np.concatenate((np.ones((x_train.shape[0], 1)), x_train), axis=1)\n",
    "train_predictions_lr=X_train_with_ones @ coefficients\n",
    "binary_train_predictions_lr=np.round(train_predictions_lr)\n",
    "# Calculate accuracy\n",
    "accuracy_test_lr = accuracy_score(y_test, binary_predictions)\n",
    "accuracy_train_lr=accuracy_score(y_train,binary_train_predictions_lr)\n",
    "print(f\"Linear Regression Training Accuracy: {accuracy_train_lr}\")\n",
    "print(f\"Linear Regression Test Accuracy: {accuracy_test_lr}\")\n"
   ]
  },
  {
   "cell_type": "markdown",
   "metadata": {},
   "source": [
    "Mean squared error -  (1/n) * Σ(yᵢ - ŷᵢ)²"
   ]
  },
  {
   "cell_type": "code",
   "execution_count": 49,
   "metadata": {},
   "outputs": [
    {
     "name": "stdout",
     "output_type": "stream",
     "text": [
      "Mean Squared Error on test data: 0.18866619503115023\n"
     ]
    }
   ],
   "source": [
    "#Evaluate the model (MSE)\n",
    "mse = np.mean((predictions - y_test)**2)\n",
    "print(f\"Mean Squared Error on test data: {mse}\")"
   ]
  },
  {
   "cell_type": "markdown",
   "metadata": {},
   "source": [
    "PRECISION - Out of all the instances that the model predicted as positive, how many were actually positive? Formula: (True Positives) / (True Positives + False Positives)"
   ]
  },
  {
   "cell_type": "code",
   "execution_count": 50,
   "metadata": {},
   "outputs": [
    {
     "name": "stdout",
     "output_type": "stream",
     "text": [
      "Linear Regression Test Precision: 0.7794072716162542\n"
     ]
    }
   ],
   "source": [
    "# Calculate precision for the test set\n",
    "precision_test_lr = precision_score(y_test, binary_predictions)\n",
    "print(f\"Linear Regression Test Precision: {precision_test_lr}\")"
   ]
  },
  {
   "cell_type": "code",
   "execution_count": 51,
   "metadata": {},
   "outputs": [
    {
     "name": "stdout",
     "output_type": "stream",
     "text": [
      "Recall: 0.6356840269125342\n",
      "F1-score: 0.700247049135328\n"
     ]
    }
   ],
   "source": [
    "\n",
    "\n",
    "# Calculate Recall\n",
    "recall = recall_score(y_test, binary_predictions) # Use 'weighted' for multi-class\n",
    "print(f\"Recall: {recall}\")\n",
    "\n",
    "# Calculate F1-score (combines precision and recall)\n",
    "from sklearn.metrics import f1_score\n",
    "f1 = f1_score(y_test, binary_predictions)  # Use 'weighted' for multi-class\n",
    "print(f\"F1-score: {f1}\")"
   ]
  },
  {
   "cell_type": "code",
   "execution_count": 85,
   "metadata": {},
   "outputs": [
    {
     "data": {
      "text/plain": [
       "array([[6465, 1444],\n",
       "       [2924, 5102]])"
      ]
     },
     "execution_count": 85,
     "metadata": {},
     "output_type": "execute_result"
    }
   ],
   "source": [
    "confusion_matrix(y_test, binary_predictions)"
   ]
  },
  {
   "cell_type": "code",
   "execution_count": 52,
   "metadata": {},
   "outputs": [
    {
     "name": "stdout",
     "output_type": "stream",
     "text": [
      "R-squared value = -0.09651345858290816\n"
     ]
    }
   ],
   "source": [
    "from sklearn.metrics import r2_score\n",
    "\n",
    "r2_linear= r2_score(y_test,binary_predictions)\n",
    "print(f\"R-squared value = {r2_linear}\")"
   ]
  },
  {
   "cell_type": "markdown",
   "metadata": {},
   "source": [
    "RECALL- Out of all the instances that were actually positive, how many did the model correctly predict as positive? Formula: (True Positives) / (True Positives + False Negatives)"
   ]
  },
  {
   "cell_type": "markdown",
   "metadata": {},
   "source": [
    "F1 SCORE- The harmonic mean of precision and recall. It balances both metrics.   \n",
    "Formula: 2 * (Precision * Recall) / (Precision + Recall)"
   ]
  },
  {
   "cell_type": "code",
   "execution_count": 53,
   "metadata": {},
   "outputs": [],
   "source": [
    "from sklearn import svm\n",
    "sv = svm.SVC(kernel='linear')\n",
    "\n",
    "sv.fit(x_train, y_train)\n",
    "\n",
    "y_pred_svm = sv.predict(x_test)"
   ]
  },
  {
   "cell_type": "code",
   "execution_count": 54,
   "metadata": {},
   "outputs": [
    {
     "data": {
      "text/plain": [
       "(15935,)"
      ]
     },
     "execution_count": 54,
     "metadata": {},
     "output_type": "execute_result"
    }
   ],
   "source": [
    "y_pred_svm.shape"
   ]
  },
  {
   "cell_type": "code",
   "execution_count": 55,
   "metadata": {},
   "outputs": [
    {
     "data": {
      "text/plain": [
       "(47804,)"
      ]
     },
     "execution_count": 55,
     "metadata": {},
     "output_type": "execute_result"
    }
   ],
   "source": [
    "y_train.shape"
   ]
  },
  {
   "cell_type": "code",
   "execution_count": 56,
   "metadata": {},
   "outputs": [
    {
     "data": {
      "text/plain": [
       "0.7240665202384687"
      ]
     },
     "execution_count": 56,
     "metadata": {},
     "output_type": "execute_result"
    }
   ],
   "source": [
    "#evaluate and print the train set accuracy\n",
    "svm_test_accuracy = accuracy_score(y_test, y_pred_svm)\n",
    "svm_test_accuracy"
   ]
  },
  {
   "cell_type": "code",
   "execution_count": 57,
   "metadata": {},
   "outputs": [
    {
     "name": "stdout",
     "output_type": "stream",
     "text": [
      "SVM Train Accuracy: 0.7155258974144423\n"
     ]
    }
   ],
   "source": [
    "#training accuracy \n",
    "svm_train_accuracy = accuracy_score(y_train, sv.predict(x_train)) # Use x_train and y_train\n",
    "print(f\"SVM Train Accuracy: {svm_train_accuracy}\")"
   ]
  },
  {
   "cell_type": "code",
   "execution_count": 58,
   "metadata": {},
   "outputs": [
    {
     "name": "stdout",
     "output_type": "stream",
     "text": [
      "Precision: 0.7950886322979346\n",
      "Recall: 0.6091452778469972\n",
      "F1-score: 0.6898059964726632\n"
     ]
    }
   ],
   "source": [
    "# Calculate Precision\n",
    "precision = precision_score(y_test, y_pred_svm)  # Use 'weighted' for multi-class\n",
    "print(f\"Precision: {precision}\")\n",
    "\n",
    "# Calculate Recall\n",
    "recall = recall_score(y_test, y_pred_svm) # Use 'weighted' for multi-class\n",
    "print(f\"Recall: {recall}\")\n",
    "\n",
    "# Calculate F1-score (combines precision and recall)\n",
    "from sklearn.metrics import f1_score\n",
    "f1 = f1_score(y_test, y_pred_svm)  # Use 'weighted' for multi-class\n",
    "print(f\"F1-score: {f1}\")"
   ]
  },
  {
   "cell_type": "code",
   "execution_count": 84,
   "metadata": {},
   "outputs": [
    {
     "data": {
      "text/plain": [
       "array([[6358, 1551],\n",
       "       [2864, 5162]])"
      ]
     },
     "execution_count": 84,
     "metadata": {},
     "output_type": "execute_result"
    }
   ],
   "source": [
    "confusion_matrix(y_test, y_pred_svm)"
   ]
  },
  {
   "cell_type": "code",
   "execution_count": 59,
   "metadata": {},
   "outputs": [
    {
     "name": "stdout",
     "output_type": "stream",
     "text": [
      "R-squared value = -0.10379342431067928\n"
     ]
    }
   ],
   "source": [
    "r2_svm = r2_score(y_test,y_pred_svm)\n",
    "print(f\"R-squared value = {r2_svm}\")"
   ]
  },
  {
   "cell_type": "code",
   "execution_count": 62,
   "metadata": {},
   "outputs": [
    {
     "name": "stdout",
     "output_type": "stream",
     "text": [
      "0.2759334797615312\n"
     ]
    }
   ],
   "source": [
    "from sklearn.metrics import mean_squared_error\n",
    "# Calculate Mean Square Error\n",
    "mse_svm= mean_squared_error(y_test, y_pred_svm)\n",
    "print (mse_svm)"
   ]
  },
  {
   "cell_type": "markdown",
   "metadata": {},
   "source": [
    "KNN"
   ]
  },
  {
   "cell_type": "code",
   "execution_count": 63,
   "metadata": {},
   "outputs": [],
   "source": [
    "from sklearn.neighbors import KNeighborsClassifier\n",
    "\n",
    "knn = KNeighborsClassifier(n_neighbors=7)\n",
    "knn.fit(x_train,y_train)\n",
    "y_pred_knn=knn.predict(x_test)"
   ]
  },
  {
   "cell_type": "code",
   "execution_count": 64,
   "metadata": {},
   "outputs": [
    {
     "data": {
      "text/plain": [
       "(15935,)"
      ]
     },
     "execution_count": 64,
     "metadata": {},
     "output_type": "execute_result"
    }
   ],
   "source": [
    "y_pred_knn.shape"
   ]
  },
  {
   "cell_type": "code",
   "execution_count": 65,
   "metadata": {},
   "outputs": [
    {
     "data": {
      "text/plain": [
       "0.7623420634256548"
      ]
     },
     "execution_count": 65,
     "metadata": {},
     "output_type": "execute_result"
    }
   ],
   "source": [
    "#evaluate and print the train set accuracy\n",
    "knn_train_accuracy = accuracy_score(knn.predict(x_train), y_train)\n",
    "knn_train_accuracy"
   ]
  },
  {
   "cell_type": "code",
   "execution_count": 66,
   "metadata": {},
   "outputs": [
    {
     "data": {
      "text/plain": [
       "0.6990900533417007"
      ]
     },
     "execution_count": 66,
     "metadata": {},
     "output_type": "execute_result"
    }
   ],
   "source": [
    "#evaluate and print the test set accuracy\n",
    "knn_test_accuracy = accuracy_score(y_test, y_pred_knn)\n",
    "knn_test_accuracy"
   ]
  },
  {
   "cell_type": "code",
   "execution_count": 68,
   "metadata": {},
   "outputs": [
    {
     "name": "stdout",
     "output_type": "stream",
     "text": [
      "Precision: 0.7107632093933464\n",
      "Recall: 0.6787939197607775\n",
      "F1-score: 0.694410808743866\n"
     ]
    }
   ],
   "source": [
    "# Calculate Precision\n",
    "precision = precision_score(y_test, y_pred_knn)  # Use 'weighted' for multi-class\n",
    "print(f\"Precision: {precision}\")\n",
    "\n",
    "# Calculate Recall\n",
    "recall = recall_score(y_test, y_pred_knn) # Use 'weighted' for multi-class\n",
    "print(f\"Recall: {recall}\")\n",
    "\n",
    "# Calculate F1-score (combines precision and recall)\n",
    "from sklearn.metrics import f1_score\n",
    "f1 = f1_score(y_test, y_pred_knn)  # Use 'weighted' for multi-class\n",
    "print(f\"F1-score: {f1}\")\n",
    "\n"
   ]
  },
  {
   "cell_type": "code",
   "execution_count": 69,
   "metadata": {},
   "outputs": [
    {
     "data": {
      "text/plain": [
       "array([[5692, 2217],\n",
       "       [2578, 5448]])"
      ]
     },
     "execution_count": 69,
     "metadata": {},
     "output_type": "execute_result"
    }
   ],
   "source": [
    "confusion_matrix(y_test, y_pred_knn)"
   ]
  },
  {
   "cell_type": "code",
   "execution_count": 70,
   "metadata": {},
   "outputs": [
    {
     "name": "stdout",
     "output_type": "stream",
     "text": [
      "R-squared value = -0.20370467809181436\n"
     ]
    }
   ],
   "source": [
    "r2_knn = r2_score(y_test,y_pred_knn)\n",
    "print(f\"R-squared value = {r2_knn}\")"
   ]
  },
  {
   "cell_type": "code",
   "execution_count": 71,
   "metadata": {},
   "outputs": [
    {
     "name": "stdout",
     "output_type": "stream",
     "text": [
      "0.30090994665829934\n"
     ]
    }
   ],
   "source": [
    "from sklearn.metrics import mean_squared_error\n",
    "# Calculate Mean Square Error\n",
    "mse_knn= mean_squared_error(y_test, y_pred_knn)\n",
    "print (mse_knn)"
   ]
  },
  {
   "cell_type": "markdown",
   "metadata": {},
   "source": [
    "total 15935, \n",
    "5692 (TN): Your model correctly predicted 5692 cases where there was no heart disease (or the negative outcome).\n",
    "2217 (FP): Your model incorrectly predicted 2217 cases as having heart disease (or the positive outcome) when they did not (Type I error).\n",
    "2578 (FN): Your model incorrectly predicted 2578 cases as not having heart disease (or the negative outcome) when they did (Type II error).\n",
    "5448 (TP): Your model correctly predicted 5448 cases where there was heart disease (or the positive outcome)."
   ]
  },
  {
   "cell_type": "markdown",
   "metadata": {},
   "source": [
    "NAIVE BAYES"
   ]
  },
  {
   "cell_type": "code",
   "execution_count": 72,
   "metadata": {},
   "outputs": [],
   "source": [
    "from sklearn.naive_bayes import GaussianNB\n",
    "\n",
    "nb = GaussianNB()\n",
    "\n",
    "nb.fit(x_train,y_train)\n",
    "\n",
    "y_pred_nb = nb.predict(x_test)"
   ]
  },
  {
   "cell_type": "code",
   "execution_count": 73,
   "metadata": {},
   "outputs": [
    {
     "data": {
      "text/plain": [
       "(15935,)"
      ]
     },
     "execution_count": 73,
     "metadata": {},
     "output_type": "execute_result"
    }
   ],
   "source": [
    "y_pred_nb.shape"
   ]
  },
  {
   "cell_type": "code",
   "execution_count": 74,
   "metadata": {},
   "outputs": [
    {
     "data": {
      "text/plain": [
       "0.7109656095724207"
      ]
     },
     "execution_count": 74,
     "metadata": {},
     "output_type": "execute_result"
    }
   ],
   "source": [
    "#evaluate and print the train set accuracy\n",
    "nb_train_accuracy = accuracy_score(nb.predict(x_train), y_train)\n",
    "nb_train_accuracy"
   ]
  },
  {
   "cell_type": "code",
   "execution_count": 75,
   "metadata": {},
   "outputs": [
    {
     "data": {
      "text/plain": [
       "0.7175400062754942"
      ]
     },
     "execution_count": 75,
     "metadata": {},
     "output_type": "execute_result"
    }
   ],
   "source": [
    "#evaluate and print the test set accuracy\n",
    "nb_test_accuracy = accuracy_score(y_test, y_pred_nb)\n",
    "nb_test_accuracy"
   ]
  },
  {
   "cell_type": "code",
   "execution_count": 76,
   "metadata": {},
   "outputs": [
    {
     "name": "stdout",
     "output_type": "stream",
     "text": [
      "Recall: 0.6219\n",
      "F1 Score: 0.6892\n",
      "Precision: 0.7730\n"
     ]
    }
   ],
   "source": [
    "\n",
    "recall_NB = recall_score(y_test, y_pred_nb)\n",
    "f1_NB = f1_score(y_test, y_pred_nb)\n",
    "precision_NB = precision_score(y_test, y_pred_nb)\n",
    "\n",
    "print(f'Recall: {recall_NB:.4f}')\n",
    "print(f'F1 Score: {f1_NB:.4f}')\n",
    "print(f'Precision: {precision_NB:.4f}')\n"
   ]
  },
  {
   "cell_type": "code",
   "execution_count": 77,
   "metadata": {},
   "outputs": [
    {
     "data": {
      "text/plain": [
       "array([[6443, 1466],\n",
       "       [3035, 4991]])"
      ]
     },
     "execution_count": 77,
     "metadata": {},
     "output_type": "execute_result"
    }
   ],
   "source": [
    "confusion_matrix(y_test, y_pred_nb)"
   ]
  },
  {
   "cell_type": "code",
   "execution_count": 79,
   "metadata": {},
   "outputs": [
    {
     "name": "stdout",
     "output_type": "stream",
     "text": [
      "0.2824599937245058\n"
     ]
    }
   ],
   "source": [
    "from sklearn.metrics import mean_squared_error\n",
    "# Calculate Mean Square Error\n",
    "mse_nb= mean_squared_error(y_test, y_pred_nb)\n",
    "print (mse_nb)"
   ]
  },
  {
   "cell_type": "code",
   "execution_count": 80,
   "metadata": {},
   "outputs": [
    {
     "name": "stdout",
     "output_type": "stream",
     "text": [
      "R-squared value = -0.1299008876102723\n"
     ]
    }
   ],
   "source": [
    "r2_nb = r2_score(y_test,y_pred_nb)\n",
    "print(f\"R-squared value = {r2_nb}\")"
   ]
  },
  {
   "cell_type": "markdown",
   "metadata": {},
   "source": [
    "Random Forest\n"
   ]
  },
  {
   "cell_type": "code",
   "execution_count": 81,
   "metadata": {},
   "outputs": [
    {
     "name": "stdout",
     "output_type": "stream",
     "text": [
      "Selected Features: ['bmi' 'age' 'ap_hi' 'systolic' 'ap_lo' 'cholesterol' 'gluc' 'gender'\n",
      " 'bmi_group' 'diastolic']\n",
      "Model Accuracy after Feature Selection: 0.6653278945716975\n",
      "Model precision after Feature Selection: 0.6650324794705234\n",
      "Model confusion matrix after Feature Selection: [[5176 2733]\n",
      " [2600 5426]]\n",
      "Model f1 score after Feature Selection: 0.670497374111832\n",
      "Model mse after Feature Selection: 0.3346721054283025\n",
      "Model r sqaure error after Feature Selection: -0.33876059400701686\n",
      "Model recall after Feature Selection: 0.676052828307999\n"
     ]
    },
    {
     "data": {
      "image/png": "[encoded data removed]",
      "text/plain": [
       "<Figure size 1000x600 with 1 Axes>"
      ]
     },
     "metadata": {},
     "output_type": "display_data"
    }
   ],
   "source": [
    "\n",
    "# Initialize and train Random Forest\n",
    "rf = RandomForestClassifier(n_estimators=100, random_state=42)\n",
    "rf.fit(x_train, y_train)\n",
    "\n",
    "# Get feature importances\n",
    "feature_importances = pd.DataFrame({'Feature': x.columns, 'Importance': rf.feature_importances_})\n",
    "feature_importances = feature_importances.sort_values(by='Importance', ascending=False)\n",
    "\n",
    "# Select the most important features (top N)\n",
    "N = 10  # Change N based on requirement\n",
    "selected_features = feature_importances.head(N)['Feature'].values\n",
    "\n",
    "# Train new model with selected features\n",
    "X_train_selected = x_train[selected_features]\n",
    "X_test_selected = x_test[selected_features]\n",
    "\n",
    "rf_selected = RandomForestClassifier(n_estimators=100, random_state=42)\n",
    "rf_selected.fit(X_train_selected, y_train)\n",
    "\n",
    "# Predict and evaluate\n",
    "y_pred = rf_selected.predict(X_test_selected)\n",
    "accuracy = accuracy_score(y_test, y_pred)\n",
    "r2_rf = r2_score(y_test,y_pred)\n",
    "mse_rf= mean_squared_error(y_test, y_pred)\n",
    "cm_rf= confusion_matrix(y_test, y_pred)\n",
    "recall_rf = recall_score(y_test, y_pred)\n",
    "f1_rf = f1_score(y_test, y_pred)\n",
    "precision_rf = precision_score(y_test, y_pred)\n",
    "\n",
    "\n",
    "print(\"Selected Features:\", selected_features)\n",
    "print(\"Model Accuracy after Feature Selection:\", accuracy)\n",
    "print(\"Model precision after Feature Selection:\", precision_rf)\n",
    "print(\"Model confusion matrix after Feature Selection:\", cm_rf)\n",
    "print(\"Model f1 score after Feature Selection:\", f1_rf)\n",
    "print(\"Model mse after Feature Selection:\", mse_rf)\n",
    "print(\"Model r sqaure error after Feature Selection:\", r2_rf)\n",
    "print(\"Model recall after Feature Selection:\", recall_rf)\n",
    "\n",
    "# Plot feature importances\n",
    "plt.figure(figsize=(10, 6))\n",
    "plt.barh(feature_importances['Feature'][:N], feature_importances['Importance'][:N], color='skyblue')\n",
    "plt.xlabel(\"Feature Importance\")\n",
    "plt.ylabel(\"Feature\")\n",
    "plt.title(\"Top Features Selected by Random Forest\")\n",
    "plt.gca().invert_yaxis()\n",
    "plt.show()"
   ]
  },
  {
   "cell_type": "code",
   "execution_count": 82,
   "metadata": {},
   "outputs": [
    {
     "name": "stdout",
     "output_type": "stream",
     "text": [
      "Best Parameters: {'max_depth': 10, 'min_samples_leaf': 1, 'min_samples_split': 5, 'n_estimators': 300}\n",
      "Model Accuracy with Optimized Parameters: 0.7304047693755883\n",
      "Model precision after Feature Selection: 0.7643140589569161\n",
      "Model confusion matrix after Feature Selection: [[6246 1663]\n",
      " [2633 5393]]\n",
      "Model f1 score after Feature Selection: 0.7151571409627371\n",
      "Model mse after Feature Selection: 0.26959523062441165\n",
      "Model r sqaure error after Feature Selection: -0.07843906091395914\n",
      "Model recall after Feature Selection: 0.6719411911288313\n"
     ]
    }
   ],
   "source": [
    "# # Hyperparameter tuning\n",
    "param_grid = {\n",
    "    'n_estimators': [100, 200, 300],  \n",
    "    'max_depth': [None, 10, 20],  \n",
    "    'min_samples_split': [2, 5, 10],  \n",
    "    'min_samples_leaf': [1, 2, 4]  \n",
    "}\n",
    "\n",
    "grid_search = GridSearchCV(RandomForestClassifier(random_state=42), param_grid, cv=5, scoring='accuracy', n_jobs=-1)\n",
    "grid_search.fit(x_train , y_train)\n",
    "\n",
    "# Get best parameters\n",
    "best_params = grid_search.best_params_\n",
    "print(\"Best Parameters:\", best_params)\n",
    "\n",
    "# Train model with best parameters\n",
    "rf_best = RandomForestClassifier(**best_params, random_state=42)\n",
    "rf_best.fit(x_train, y_train)\n",
    "\n",
    "# Predict and evaluate\n",
    "y_pred_best = rf_best.predict(x_test)\n",
    "accuracy_best = accuracy_score(y_test, y_pred_best)\n",
    "r2_gs = r2_score(y_test,y_pred_best)\n",
    "mse_gs= mean_squared_error(y_test, y_pred_best)\n",
    "cm_gs= confusion_matrix(y_test, y_pred_best)\n",
    "recall_gs = recall_score(y_test, y_pred_best)\n",
    "f1_gs = f1_score(y_test, y_pred_best)\n",
    "precision_gs=precision_score(y_test, y_pred_best)\n",
    "\n",
    "\n",
    "print(\"Model Accuracy with Optimized Parameters:\", accuracy_best)\n",
    "print(\"Model precision after Feature Selection:\", precision_gs)\n",
    "print(\"Model confusion matrix after Feature Selection:\", cm_gs)\n",
    "print(\"Model f1 score after Feature Selection:\", f1_gs)\n",
    "print(\"Model mse after Feature Selection:\", mse_gs)\n",
    "print(\"Model r sqaure error after Feature Selection:\", r2_gs)\n",
    "print(\"Model recall after Feature Selection:\", recall_gs)"
   ]
  },
  {
   "cell_type": "code",
   "execution_count": 83,
   "metadata": {},
   "outputs": [
    {
     "name": "stdout",
     "output_type": "stream",
     "text": [
      "Model Accuracy using Gaussian Kernel SVM: 0.7229369312833386\n",
      "Model precision after Feature Selection: 0.7643140589569161\n",
      "Model confusion matrix after Feature Selection: [[6246 1663]\n",
      " [2633 5393]]\n",
      "Model f1 score after Feature Selection: 0.7151571409627371\n",
      "Model mse after Feature Selection: 0.26959523062441165\n",
      "Model r sqaure error after Feature Selection: -0.07843906091395914\n",
      "Model recall after Feature Selection: 0.6719411911288313\n"
     ]
    }
   ],
   "source": [
    "from sklearn.svm import SVC\n",
    "from sklearn.metrics import accuracy_score\n",
    "\n",
    "# Train SVM with Gaussian (RBF) kernel\n",
    "svm_rbf = SVC(kernel='rbf', C=1.0, gamma='scale', random_state=42)\n",
    "svm_rbf.fit(X_train_selected, y_train)\n",
    "\n",
    "# Predict on test data\n",
    "y_pred_svm = svm_rbf.predict(X_test_selected)\n",
    "\n",
    "# Evaluate accuracy\n",
    "accuracy_svm = accuracy_score(y_test, y_pred_svm)\n",
    "r2_gsvm=r2_score(y_test,y_pred_best)\n",
    "mse_gsvm= mean_squared_error(y_test, y_pred_best)\n",
    "cm_gsvm= confusion_matrix(y_test, y_pred_best)\n",
    "recall_gsvm= recall_score(y_test, y_pred_best)\n",
    "f1_gsvm= f1_score(y_test, y_pred_best)\n",
    "precision_gsvm= precision_score(y_test, y_pred_best)\n",
    "\n",
    "\n",
    "print(\"Model Accuracy using Gaussian Kernel SVM:\", accuracy_svm)\n",
    "print(\"Model precision after Feature Selection:\", precision_gsvm)\n",
    "print(\"Model confusion matrix after Feature Selection:\", cm_gsvm)\n",
    "print(\"Model f1 score after Feature Selection:\", f1_gsvm)\n",
    "print(\"Model mse after Feature Selection:\", mse_gsvm)\n",
    "print(\"Model r sqaure error after Feature Selection:\", r2_gsvm)\n",
    "print(\"Model recall after Feature Selection:\", recall_gsvm)\n"
   ]
  },
  {
   "cell_type": "code",
   "execution_count": null,
   "metadata": {},
   "outputs": [],
   "source": []
  }
 ],
 "metadata": {
  "kernelspec": {
   "display_name": "Python 3",
   "language": "python",
   "name": "python3"
  },
  "language_info": {
   "codemirror_mode": {
    "name": "ipython",
    "version": 3
   },
   "file_extension": ".py",
   "mimetype": "text/x-python",
   "name": "python",
   "nbconvert_exporter": "python",
   "pygments_lexer": "ipython3",
   "version": "3.13.1"
  }
 },
 "nbformat": 4,
 "nbformat_minor": 2
}
